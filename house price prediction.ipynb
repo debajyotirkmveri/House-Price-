{
 "cells": [
  {
   "cell_type": "code",
   "execution_count": 1,
   "id": "af0c371c",
   "metadata": {},
   "outputs": [],
   "source": [
    "import numpy as np\n",
    "import pandas as pd\n",
    "import matplotlib.pyplot as plt\n",
    "import seaborn as sns\n",
    "import mpl_toolkits\n",
    "from sklearn.preprocessing import LabelEncoder,StandardScaler\n",
    "\n",
    "%matplotlib inline"
   ]
  },
  {
   "cell_type": "code",
   "execution_count": 2,
   "id": "87a346b0",
   "metadata": {},
   "outputs": [],
   "source": [
    "house = pd.read_csv(\"data.csv\")"
   ]
  },
  {
   "cell_type": "code",
   "execution_count": 3,
   "id": "8c12ea25",
   "metadata": {},
   "outputs": [
    {
     "data": {
      "text/html": [
       "<div>\n",
       "<style scoped>\n",
       "    .dataframe tbody tr th:only-of-type {\n",
       "        vertical-align: middle;\n",
       "    }\n",
       "\n",
       "    .dataframe tbody tr th {\n",
       "        vertical-align: top;\n",
       "    }\n",
       "\n",
       "    .dataframe thead th {\n",
       "        text-align: right;\n",
       "    }\n",
       "</style>\n",
       "<table border=\"1\" class=\"dataframe\">\n",
       "  <thead>\n",
       "    <tr style=\"text-align: right;\">\n",
       "      <th></th>\n",
       "      <th>date</th>\n",
       "      <th>price</th>\n",
       "      <th>bedrooms</th>\n",
       "      <th>bathrooms</th>\n",
       "      <th>sqft_living</th>\n",
       "      <th>sqft_lot</th>\n",
       "      <th>floors</th>\n",
       "      <th>waterfront</th>\n",
       "      <th>view</th>\n",
       "      <th>condition</th>\n",
       "      <th>sqft_above</th>\n",
       "      <th>sqft_basement</th>\n",
       "      <th>yr_built</th>\n",
       "      <th>yr_renovated</th>\n",
       "      <th>street</th>\n",
       "      <th>city</th>\n",
       "      <th>statezip</th>\n",
       "      <th>country</th>\n",
       "    </tr>\n",
       "  </thead>\n",
       "  <tbody>\n",
       "    <tr>\n",
       "      <th>0</th>\n",
       "      <td>2014-05-02 00:00:00</td>\n",
       "      <td>3.130000e+05</td>\n",
       "      <td>3.0</td>\n",
       "      <td>1.50</td>\n",
       "      <td>1340</td>\n",
       "      <td>7912</td>\n",
       "      <td>1.5</td>\n",
       "      <td>0</td>\n",
       "      <td>0</td>\n",
       "      <td>3</td>\n",
       "      <td>1340</td>\n",
       "      <td>0</td>\n",
       "      <td>1955</td>\n",
       "      <td>2005</td>\n",
       "      <td>18810 Densmore Ave N</td>\n",
       "      <td>Shoreline</td>\n",
       "      <td>WA 98133</td>\n",
       "      <td>USA</td>\n",
       "    </tr>\n",
       "    <tr>\n",
       "      <th>1</th>\n",
       "      <td>2014-05-02 00:00:00</td>\n",
       "      <td>2.384000e+06</td>\n",
       "      <td>5.0</td>\n",
       "      <td>2.50</td>\n",
       "      <td>3650</td>\n",
       "      <td>9050</td>\n",
       "      <td>2.0</td>\n",
       "      <td>0</td>\n",
       "      <td>4</td>\n",
       "      <td>5</td>\n",
       "      <td>3370</td>\n",
       "      <td>280</td>\n",
       "      <td>1921</td>\n",
       "      <td>0</td>\n",
       "      <td>709 W Blaine St</td>\n",
       "      <td>Seattle</td>\n",
       "      <td>WA 98119</td>\n",
       "      <td>USA</td>\n",
       "    </tr>\n",
       "    <tr>\n",
       "      <th>2</th>\n",
       "      <td>2014-05-02 00:00:00</td>\n",
       "      <td>3.420000e+05</td>\n",
       "      <td>3.0</td>\n",
       "      <td>2.00</td>\n",
       "      <td>1930</td>\n",
       "      <td>11947</td>\n",
       "      <td>1.0</td>\n",
       "      <td>0</td>\n",
       "      <td>0</td>\n",
       "      <td>4</td>\n",
       "      <td>1930</td>\n",
       "      <td>0</td>\n",
       "      <td>1966</td>\n",
       "      <td>0</td>\n",
       "      <td>26206-26214 143rd Ave SE</td>\n",
       "      <td>Kent</td>\n",
       "      <td>WA 98042</td>\n",
       "      <td>USA</td>\n",
       "    </tr>\n",
       "    <tr>\n",
       "      <th>3</th>\n",
       "      <td>2014-05-02 00:00:00</td>\n",
       "      <td>4.200000e+05</td>\n",
       "      <td>3.0</td>\n",
       "      <td>2.25</td>\n",
       "      <td>2000</td>\n",
       "      <td>8030</td>\n",
       "      <td>1.0</td>\n",
       "      <td>0</td>\n",
       "      <td>0</td>\n",
       "      <td>4</td>\n",
       "      <td>1000</td>\n",
       "      <td>1000</td>\n",
       "      <td>1963</td>\n",
       "      <td>0</td>\n",
       "      <td>857 170th Pl NE</td>\n",
       "      <td>Bellevue</td>\n",
       "      <td>WA 98008</td>\n",
       "      <td>USA</td>\n",
       "    </tr>\n",
       "    <tr>\n",
       "      <th>4</th>\n",
       "      <td>2014-05-02 00:00:00</td>\n",
       "      <td>5.500000e+05</td>\n",
       "      <td>4.0</td>\n",
       "      <td>2.50</td>\n",
       "      <td>1940</td>\n",
       "      <td>10500</td>\n",
       "      <td>1.0</td>\n",
       "      <td>0</td>\n",
       "      <td>0</td>\n",
       "      <td>4</td>\n",
       "      <td>1140</td>\n",
       "      <td>800</td>\n",
       "      <td>1976</td>\n",
       "      <td>1992</td>\n",
       "      <td>9105 170th Ave NE</td>\n",
       "      <td>Redmond</td>\n",
       "      <td>WA 98052</td>\n",
       "      <td>USA</td>\n",
       "    </tr>\n",
       "    <tr>\n",
       "      <th>...</th>\n",
       "      <td>...</td>\n",
       "      <td>...</td>\n",
       "      <td>...</td>\n",
       "      <td>...</td>\n",
       "      <td>...</td>\n",
       "      <td>...</td>\n",
       "      <td>...</td>\n",
       "      <td>...</td>\n",
       "      <td>...</td>\n",
       "      <td>...</td>\n",
       "      <td>...</td>\n",
       "      <td>...</td>\n",
       "      <td>...</td>\n",
       "      <td>...</td>\n",
       "      <td>...</td>\n",
       "      <td>...</td>\n",
       "      <td>...</td>\n",
       "      <td>...</td>\n",
       "    </tr>\n",
       "    <tr>\n",
       "      <th>4595</th>\n",
       "      <td>2014-07-09 00:00:00</td>\n",
       "      <td>3.081667e+05</td>\n",
       "      <td>3.0</td>\n",
       "      <td>1.75</td>\n",
       "      <td>1510</td>\n",
       "      <td>6360</td>\n",
       "      <td>1.0</td>\n",
       "      <td>0</td>\n",
       "      <td>0</td>\n",
       "      <td>4</td>\n",
       "      <td>1510</td>\n",
       "      <td>0</td>\n",
       "      <td>1954</td>\n",
       "      <td>1979</td>\n",
       "      <td>501 N 143rd St</td>\n",
       "      <td>Seattle</td>\n",
       "      <td>WA 98133</td>\n",
       "      <td>USA</td>\n",
       "    </tr>\n",
       "    <tr>\n",
       "      <th>4596</th>\n",
       "      <td>2014-07-09 00:00:00</td>\n",
       "      <td>5.343333e+05</td>\n",
       "      <td>3.0</td>\n",
       "      <td>2.50</td>\n",
       "      <td>1460</td>\n",
       "      <td>7573</td>\n",
       "      <td>2.0</td>\n",
       "      <td>0</td>\n",
       "      <td>0</td>\n",
       "      <td>3</td>\n",
       "      <td>1460</td>\n",
       "      <td>0</td>\n",
       "      <td>1983</td>\n",
       "      <td>2009</td>\n",
       "      <td>14855 SE 10th Pl</td>\n",
       "      <td>Bellevue</td>\n",
       "      <td>WA 98007</td>\n",
       "      <td>USA</td>\n",
       "    </tr>\n",
       "    <tr>\n",
       "      <th>4597</th>\n",
       "      <td>2014-07-09 00:00:00</td>\n",
       "      <td>4.169042e+05</td>\n",
       "      <td>3.0</td>\n",
       "      <td>2.50</td>\n",
       "      <td>3010</td>\n",
       "      <td>7014</td>\n",
       "      <td>2.0</td>\n",
       "      <td>0</td>\n",
       "      <td>0</td>\n",
       "      <td>3</td>\n",
       "      <td>3010</td>\n",
       "      <td>0</td>\n",
       "      <td>2009</td>\n",
       "      <td>0</td>\n",
       "      <td>759 Ilwaco Pl NE</td>\n",
       "      <td>Renton</td>\n",
       "      <td>WA 98059</td>\n",
       "      <td>USA</td>\n",
       "    </tr>\n",
       "    <tr>\n",
       "      <th>4598</th>\n",
       "      <td>2014-07-10 00:00:00</td>\n",
       "      <td>2.034000e+05</td>\n",
       "      <td>4.0</td>\n",
       "      <td>2.00</td>\n",
       "      <td>2090</td>\n",
       "      <td>6630</td>\n",
       "      <td>1.0</td>\n",
       "      <td>0</td>\n",
       "      <td>0</td>\n",
       "      <td>3</td>\n",
       "      <td>1070</td>\n",
       "      <td>1020</td>\n",
       "      <td>1974</td>\n",
       "      <td>0</td>\n",
       "      <td>5148 S Creston St</td>\n",
       "      <td>Seattle</td>\n",
       "      <td>WA 98178</td>\n",
       "      <td>USA</td>\n",
       "    </tr>\n",
       "    <tr>\n",
       "      <th>4599</th>\n",
       "      <td>2014-07-10 00:00:00</td>\n",
       "      <td>2.206000e+05</td>\n",
       "      <td>3.0</td>\n",
       "      <td>2.50</td>\n",
       "      <td>1490</td>\n",
       "      <td>8102</td>\n",
       "      <td>2.0</td>\n",
       "      <td>0</td>\n",
       "      <td>0</td>\n",
       "      <td>4</td>\n",
       "      <td>1490</td>\n",
       "      <td>0</td>\n",
       "      <td>1990</td>\n",
       "      <td>0</td>\n",
       "      <td>18717 SE 258th St</td>\n",
       "      <td>Covington</td>\n",
       "      <td>WA 98042</td>\n",
       "      <td>USA</td>\n",
       "    </tr>\n",
       "  </tbody>\n",
       "</table>\n",
       "<p>4600 rows × 18 columns</p>\n",
       "</div>"
      ],
      "text/plain": [
       "                     date         price  bedrooms  bathrooms  sqft_living  \\\n",
       "0     2014-05-02 00:00:00  3.130000e+05       3.0       1.50         1340   \n",
       "1     2014-05-02 00:00:00  2.384000e+06       5.0       2.50         3650   \n",
       "2     2014-05-02 00:00:00  3.420000e+05       3.0       2.00         1930   \n",
       "3     2014-05-02 00:00:00  4.200000e+05       3.0       2.25         2000   \n",
       "4     2014-05-02 00:00:00  5.500000e+05       4.0       2.50         1940   \n",
       "...                   ...           ...       ...        ...          ...   \n",
       "4595  2014-07-09 00:00:00  3.081667e+05       3.0       1.75         1510   \n",
       "4596  2014-07-09 00:00:00  5.343333e+05       3.0       2.50         1460   \n",
       "4597  2014-07-09 00:00:00  4.169042e+05       3.0       2.50         3010   \n",
       "4598  2014-07-10 00:00:00  2.034000e+05       4.0       2.00         2090   \n",
       "4599  2014-07-10 00:00:00  2.206000e+05       3.0       2.50         1490   \n",
       "\n",
       "      sqft_lot  floors  waterfront  view  condition  sqft_above  \\\n",
       "0         7912     1.5           0     0          3        1340   \n",
       "1         9050     2.0           0     4          5        3370   \n",
       "2        11947     1.0           0     0          4        1930   \n",
       "3         8030     1.0           0     0          4        1000   \n",
       "4        10500     1.0           0     0          4        1140   \n",
       "...        ...     ...         ...   ...        ...         ...   \n",
       "4595      6360     1.0           0     0          4        1510   \n",
       "4596      7573     2.0           0     0          3        1460   \n",
       "4597      7014     2.0           0     0          3        3010   \n",
       "4598      6630     1.0           0     0          3        1070   \n",
       "4599      8102     2.0           0     0          4        1490   \n",
       "\n",
       "      sqft_basement  yr_built  yr_renovated                    street  \\\n",
       "0                 0      1955          2005      18810 Densmore Ave N   \n",
       "1               280      1921             0           709 W Blaine St   \n",
       "2                 0      1966             0  26206-26214 143rd Ave SE   \n",
       "3              1000      1963             0           857 170th Pl NE   \n",
       "4               800      1976          1992         9105 170th Ave NE   \n",
       "...             ...       ...           ...                       ...   \n",
       "4595              0      1954          1979            501 N 143rd St   \n",
       "4596              0      1983          2009          14855 SE 10th Pl   \n",
       "4597              0      2009             0          759 Ilwaco Pl NE   \n",
       "4598           1020      1974             0         5148 S Creston St   \n",
       "4599              0      1990             0         18717 SE 258th St   \n",
       "\n",
       "           city  statezip country  \n",
       "0     Shoreline  WA 98133     USA  \n",
       "1       Seattle  WA 98119     USA  \n",
       "2          Kent  WA 98042     USA  \n",
       "3      Bellevue  WA 98008     USA  \n",
       "4       Redmond  WA 98052     USA  \n",
       "...         ...       ...     ...  \n",
       "4595    Seattle  WA 98133     USA  \n",
       "4596   Bellevue  WA 98007     USA  \n",
       "4597     Renton  WA 98059     USA  \n",
       "4598    Seattle  WA 98178     USA  \n",
       "4599  Covington  WA 98042     USA  \n",
       "\n",
       "[4600 rows x 18 columns]"
      ]
     },
     "execution_count": 3,
     "metadata": {},
     "output_type": "execute_result"
    }
   ],
   "source": [
    "house"
   ]
  },
  {
   "cell_type": "code",
   "execution_count": 4,
   "id": "044b6dc2",
   "metadata": {},
   "outputs": [
    {
     "data": {
      "text/plain": [
       "(4600, 18)"
      ]
     },
     "execution_count": 4,
     "metadata": {},
     "output_type": "execute_result"
    }
   ],
   "source": [
    "house.shape"
   ]
  },
  {
   "cell_type": "code",
   "execution_count": 5,
   "id": "a4c1b60d",
   "metadata": {
    "scrolled": true
   },
   "outputs": [
    {
     "data": {
      "text/plain": [
       "Index(['date', 'price', 'bedrooms', 'bathrooms', 'sqft_living', 'sqft_lot',\n",
       "       'floors', 'waterfront', 'view', 'condition', 'sqft_above',\n",
       "       'sqft_basement', 'yr_built', 'yr_renovated', 'street', 'city',\n",
       "       'statezip', 'country'],\n",
       "      dtype='object')"
      ]
     },
     "execution_count": 5,
     "metadata": {},
     "output_type": "execute_result"
    }
   ],
   "source": [
    "house.columns"
   ]
  },
  {
   "cell_type": "code",
   "execution_count": 6,
   "id": "7284db3e",
   "metadata": {
    "scrolled": true
   },
   "outputs": [
    {
     "data": {
      "text/html": [
       "<div>\n",
       "<style scoped>\n",
       "    .dataframe tbody tr th:only-of-type {\n",
       "        vertical-align: middle;\n",
       "    }\n",
       "\n",
       "    .dataframe tbody tr th {\n",
       "        vertical-align: top;\n",
       "    }\n",
       "\n",
       "    .dataframe thead th {\n",
       "        text-align: right;\n",
       "    }\n",
       "</style>\n",
       "<table border=\"1\" class=\"dataframe\">\n",
       "  <thead>\n",
       "    <tr style=\"text-align: right;\">\n",
       "      <th></th>\n",
       "      <th>price</th>\n",
       "      <th>bedrooms</th>\n",
       "      <th>bathrooms</th>\n",
       "      <th>sqft_living</th>\n",
       "      <th>sqft_lot</th>\n",
       "      <th>floors</th>\n",
       "      <th>waterfront</th>\n",
       "      <th>view</th>\n",
       "      <th>condition</th>\n",
       "      <th>sqft_above</th>\n",
       "      <th>sqft_basement</th>\n",
       "      <th>yr_built</th>\n",
       "      <th>yr_renovated</th>\n",
       "    </tr>\n",
       "  </thead>\n",
       "  <tbody>\n",
       "    <tr>\n",
       "      <th>count</th>\n",
       "      <td>4.600000e+03</td>\n",
       "      <td>4600.000000</td>\n",
       "      <td>4600.000000</td>\n",
       "      <td>4600.000000</td>\n",
       "      <td>4.600000e+03</td>\n",
       "      <td>4600.000000</td>\n",
       "      <td>4600.000000</td>\n",
       "      <td>4600.000000</td>\n",
       "      <td>4600.000000</td>\n",
       "      <td>4600.000000</td>\n",
       "      <td>4600.000000</td>\n",
       "      <td>4600.000000</td>\n",
       "      <td>4600.000000</td>\n",
       "    </tr>\n",
       "    <tr>\n",
       "      <th>mean</th>\n",
       "      <td>5.519630e+05</td>\n",
       "      <td>3.400870</td>\n",
       "      <td>2.160815</td>\n",
       "      <td>2139.346957</td>\n",
       "      <td>1.485252e+04</td>\n",
       "      <td>1.512065</td>\n",
       "      <td>0.007174</td>\n",
       "      <td>0.240652</td>\n",
       "      <td>3.451739</td>\n",
       "      <td>1827.265435</td>\n",
       "      <td>312.081522</td>\n",
       "      <td>1970.786304</td>\n",
       "      <td>808.608261</td>\n",
       "    </tr>\n",
       "    <tr>\n",
       "      <th>std</th>\n",
       "      <td>5.638347e+05</td>\n",
       "      <td>0.908848</td>\n",
       "      <td>0.783781</td>\n",
       "      <td>963.206916</td>\n",
       "      <td>3.588444e+04</td>\n",
       "      <td>0.538288</td>\n",
       "      <td>0.084404</td>\n",
       "      <td>0.778405</td>\n",
       "      <td>0.677230</td>\n",
       "      <td>862.168977</td>\n",
       "      <td>464.137228</td>\n",
       "      <td>29.731848</td>\n",
       "      <td>979.414536</td>\n",
       "    </tr>\n",
       "    <tr>\n",
       "      <th>min</th>\n",
       "      <td>0.000000e+00</td>\n",
       "      <td>0.000000</td>\n",
       "      <td>0.000000</td>\n",
       "      <td>370.000000</td>\n",
       "      <td>6.380000e+02</td>\n",
       "      <td>1.000000</td>\n",
       "      <td>0.000000</td>\n",
       "      <td>0.000000</td>\n",
       "      <td>1.000000</td>\n",
       "      <td>370.000000</td>\n",
       "      <td>0.000000</td>\n",
       "      <td>1900.000000</td>\n",
       "      <td>0.000000</td>\n",
       "    </tr>\n",
       "    <tr>\n",
       "      <th>25%</th>\n",
       "      <td>3.228750e+05</td>\n",
       "      <td>3.000000</td>\n",
       "      <td>1.750000</td>\n",
       "      <td>1460.000000</td>\n",
       "      <td>5.000750e+03</td>\n",
       "      <td>1.000000</td>\n",
       "      <td>0.000000</td>\n",
       "      <td>0.000000</td>\n",
       "      <td>3.000000</td>\n",
       "      <td>1190.000000</td>\n",
       "      <td>0.000000</td>\n",
       "      <td>1951.000000</td>\n",
       "      <td>0.000000</td>\n",
       "    </tr>\n",
       "    <tr>\n",
       "      <th>50%</th>\n",
       "      <td>4.609435e+05</td>\n",
       "      <td>3.000000</td>\n",
       "      <td>2.250000</td>\n",
       "      <td>1980.000000</td>\n",
       "      <td>7.683000e+03</td>\n",
       "      <td>1.500000</td>\n",
       "      <td>0.000000</td>\n",
       "      <td>0.000000</td>\n",
       "      <td>3.000000</td>\n",
       "      <td>1590.000000</td>\n",
       "      <td>0.000000</td>\n",
       "      <td>1976.000000</td>\n",
       "      <td>0.000000</td>\n",
       "    </tr>\n",
       "    <tr>\n",
       "      <th>75%</th>\n",
       "      <td>6.549625e+05</td>\n",
       "      <td>4.000000</td>\n",
       "      <td>2.500000</td>\n",
       "      <td>2620.000000</td>\n",
       "      <td>1.100125e+04</td>\n",
       "      <td>2.000000</td>\n",
       "      <td>0.000000</td>\n",
       "      <td>0.000000</td>\n",
       "      <td>4.000000</td>\n",
       "      <td>2300.000000</td>\n",
       "      <td>610.000000</td>\n",
       "      <td>1997.000000</td>\n",
       "      <td>1999.000000</td>\n",
       "    </tr>\n",
       "    <tr>\n",
       "      <th>max</th>\n",
       "      <td>2.659000e+07</td>\n",
       "      <td>9.000000</td>\n",
       "      <td>8.000000</td>\n",
       "      <td>13540.000000</td>\n",
       "      <td>1.074218e+06</td>\n",
       "      <td>3.500000</td>\n",
       "      <td>1.000000</td>\n",
       "      <td>4.000000</td>\n",
       "      <td>5.000000</td>\n",
       "      <td>9410.000000</td>\n",
       "      <td>4820.000000</td>\n",
       "      <td>2014.000000</td>\n",
       "      <td>2014.000000</td>\n",
       "    </tr>\n",
       "  </tbody>\n",
       "</table>\n",
       "</div>"
      ],
      "text/plain": [
       "              price     bedrooms    bathrooms   sqft_living      sqft_lot  \\\n",
       "count  4.600000e+03  4600.000000  4600.000000   4600.000000  4.600000e+03   \n",
       "mean   5.519630e+05     3.400870     2.160815   2139.346957  1.485252e+04   \n",
       "std    5.638347e+05     0.908848     0.783781    963.206916  3.588444e+04   \n",
       "min    0.000000e+00     0.000000     0.000000    370.000000  6.380000e+02   \n",
       "25%    3.228750e+05     3.000000     1.750000   1460.000000  5.000750e+03   \n",
       "50%    4.609435e+05     3.000000     2.250000   1980.000000  7.683000e+03   \n",
       "75%    6.549625e+05     4.000000     2.500000   2620.000000  1.100125e+04   \n",
       "max    2.659000e+07     9.000000     8.000000  13540.000000  1.074218e+06   \n",
       "\n",
       "            floors   waterfront         view    condition   sqft_above  \\\n",
       "count  4600.000000  4600.000000  4600.000000  4600.000000  4600.000000   \n",
       "mean      1.512065     0.007174     0.240652     3.451739  1827.265435   \n",
       "std       0.538288     0.084404     0.778405     0.677230   862.168977   \n",
       "min       1.000000     0.000000     0.000000     1.000000   370.000000   \n",
       "25%       1.000000     0.000000     0.000000     3.000000  1190.000000   \n",
       "50%       1.500000     0.000000     0.000000     3.000000  1590.000000   \n",
       "75%       2.000000     0.000000     0.000000     4.000000  2300.000000   \n",
       "max       3.500000     1.000000     4.000000     5.000000  9410.000000   \n",
       "\n",
       "       sqft_basement     yr_built  yr_renovated  \n",
       "count    4600.000000  4600.000000   4600.000000  \n",
       "mean      312.081522  1970.786304    808.608261  \n",
       "std       464.137228    29.731848    979.414536  \n",
       "min         0.000000  1900.000000      0.000000  \n",
       "25%         0.000000  1951.000000      0.000000  \n",
       "50%         0.000000  1976.000000      0.000000  \n",
       "75%       610.000000  1997.000000   1999.000000  \n",
       "max      4820.000000  2014.000000   2014.000000  "
      ]
     },
     "execution_count": 6,
     "metadata": {},
     "output_type": "execute_result"
    }
   ],
   "source": [
    "house.describe()\n"
   ]
  },
  {
   "cell_type": "code",
   "execution_count": 7,
   "id": "828ee19c",
   "metadata": {},
   "outputs": [
    {
     "data": {
      "text/plain": [
       "date             0\n",
       "price            0\n",
       "bedrooms         0\n",
       "bathrooms        0\n",
       "sqft_living      0\n",
       "sqft_lot         0\n",
       "floors           0\n",
       "waterfront       0\n",
       "view             0\n",
       "condition        0\n",
       "sqft_above       0\n",
       "sqft_basement    0\n",
       "yr_built         0\n",
       "yr_renovated     0\n",
       "street           0\n",
       "city             0\n",
       "statezip         0\n",
       "country          0\n",
       "dtype: int64"
      ]
     },
     "execution_count": 7,
     "metadata": {},
     "output_type": "execute_result"
    }
   ],
   "source": [
    "house.isnull().sum()"
   ]
  },
  {
   "cell_type": "code",
   "execution_count": 8,
   "id": "a2e4decf",
   "metadata": {
    "scrolled": true
   },
   "outputs": [
    {
     "data": {
      "image/png": "[encoded data removed]",
      "text/plain": [
       "<Figure size 432x288 with 1 Axes>"
      ]
     },
     "metadata": {
      "needs_background": "light"
     },
     "output_type": "display_data"
    }
   ],
   "source": [
    "house['bedrooms'].value_counts().plot(kind='bar')\n",
    "plt.title('number of Bedroom')\n",
    "plt.xlabel('Bedrooms')\n",
    "plt.ylabel('Count')\n",
    "plt.savefig(\"C://Users//debaj//Desktop//Project Practis//house_price/bedroom.png\")\n",
    "plt.show()"
   ]
  },
  {
   "cell_type": "code",
   "execution_count": 9,
   "id": "50a4959b",
   "metadata": {
    "scrolled": true
   },
   "outputs": [
    {
     "data": {
      "image/png": "[encoded data removed]",
      "text/plain": [
       "<Figure size 432x288 with 1 Axes>"
      ]
     },
     "metadata": {
      "needs_background": "light"
     },
     "output_type": "display_data"
    }
   ],
   "source": [
    "plt.scatter(house.price,house.sqft_living)\n",
    "plt.title(\"Price vs Square Feet\")\n",
    "plt.ylabel('Square Feet')\n",
    "plt.xlabel('Price')\n",
    "plt.savefig(\"C://Users//debaj//Desktop//Project Practis//house_price/price_squarefeet.png\")\n",
    "plt.show()"
   ]
  },
  {
   "cell_type": "code",
   "execution_count": 10,
   "id": "f155c82c",
   "metadata": {},
   "outputs": [
    {
     "data": {
      "image/png": "[encoded data removed]",
      "text/plain": [
       "<Figure size 720x576 with 2 Axes>"
      ]
     },
     "metadata": {
      "needs_background": "light"
     },
     "output_type": "display_data"
    }
   ],
   "source": [
    "import pandas as pd\n",
    "import seaborn as sns\n",
    "import matplotlib.pyplot as plt\n",
    "\n",
    "# Assuming 'house' is your pandas DataFrame\n",
    "# Replace this with your actual DataFrame name if different\n",
    "\n",
    "# Compute the correlation matrix\n",
    "correlation_matrix = house.corr()\n",
    "\n",
    "# Create a heatmap of the correlation matrix\n",
    "plt.figure(figsize=(10, 8))\n",
    "sns.heatmap(correlation_matrix, annot=True, cmap='coolwarm', fmt='.2f', linewidths=0.5)\n",
    "plt.title('Correlation Matrix')\n",
    "plt.show()\n"
   ]
  },
  {
   "cell_type": "code",
   "execution_count": 11,
   "id": "7362bb5c",
   "metadata": {},
   "outputs": [
    {
     "data": {
      "image/png": "[encoded data removed]",
      "text/plain": [
       "<Figure size 432x288 with 1 Axes>"
      ]
     },
     "metadata": {
      "needs_background": "light"
     },
     "output_type": "display_data"
    }
   ],
   "source": [
    "plt.scatter(house.bedrooms,house.price)\n",
    "plt.title(\"Bedroom and Price \")\n",
    "plt.xlabel(\"Bedrooms\")\n",
    "plt.ylabel(\"Price\")\n",
    "plt.show()"
   ]
  },
  {
   "cell_type": "code",
   "execution_count": 12,
   "id": "4c7b4596",
   "metadata": {},
   "outputs": [
    {
     "data": {
      "image/png": "[encoded data removed]",
      "text/plain": [
       "<Figure size 432x288 with 1 Axes>"
      ]
     },
     "metadata": {
      "needs_background": "light"
     },
     "output_type": "display_data"
    }
   ],
   "source": [
    "plt.scatter((house['sqft_living']+house['sqft_basement']),house['price'])\n",
    "plt.ylabel(\"Price\")\n",
    "plt.xlabel(\"sqft_living\" +\"+\"+ \"sqft_basement\")\n",
    "plt.show()\n"
   ]
  },
  {
   "cell_type": "code",
   "execution_count": 13,
   "id": "21f07340",
   "metadata": {},
   "outputs": [
    {
     "data": {
      "image/png": "[encoded data removed]",
      "text/plain": [
       "<Figure size 432x288 with 1 Axes>"
      ]
     },
     "metadata": {
      "needs_background": "light"
     },
     "output_type": "display_data"
    }
   ],
   "source": [
    "plt.scatter(house.waterfront,house.price)\n",
    "plt.title(\"Waterfront vs Price ( 0= no waterfront)\")\n",
    "plt.show()"
   ]
  },
  {
   "cell_type": "code",
   "execution_count": 14,
   "id": "6bb1f737",
   "metadata": {
    "scrolled": true
   },
   "outputs": [
    {
     "data": {
      "text/html": [
       "<div>\n",
       "<style scoped>\n",
       "    .dataframe tbody tr th:only-of-type {\n",
       "        vertical-align: middle;\n",
       "    }\n",
       "\n",
       "    .dataframe tbody tr th {\n",
       "        vertical-align: top;\n",
       "    }\n",
       "\n",
       "    .dataframe thead th {\n",
       "        text-align: right;\n",
       "    }\n",
       "</style>\n",
       "<table border=\"1\" class=\"dataframe\">\n",
       "  <thead>\n",
       "    <tr style=\"text-align: right;\">\n",
       "      <th></th>\n",
       "      <th>date</th>\n",
       "      <th>bedrooms</th>\n",
       "      <th>bathrooms</th>\n",
       "      <th>sqft_living</th>\n",
       "      <th>sqft_lot</th>\n",
       "      <th>floors</th>\n",
       "      <th>waterfront</th>\n",
       "      <th>view</th>\n",
       "      <th>condition</th>\n",
       "      <th>sqft_above</th>\n",
       "      <th>sqft_basement</th>\n",
       "      <th>yr_built</th>\n",
       "      <th>yr_renovated</th>\n",
       "      <th>street</th>\n",
       "      <th>city</th>\n",
       "      <th>statezip</th>\n",
       "      <th>country</th>\n",
       "    </tr>\n",
       "  </thead>\n",
       "  <tbody>\n",
       "    <tr>\n",
       "      <th>0</th>\n",
       "      <td>2014-05-02 00:00:00</td>\n",
       "      <td>3.0</td>\n",
       "      <td>1.50</td>\n",
       "      <td>1340</td>\n",
       "      <td>7912</td>\n",
       "      <td>1.5</td>\n",
       "      <td>0</td>\n",
       "      <td>0</td>\n",
       "      <td>3</td>\n",
       "      <td>1340</td>\n",
       "      <td>0</td>\n",
       "      <td>1955</td>\n",
       "      <td>2005</td>\n",
       "      <td>18810 Densmore Ave N</td>\n",
       "      <td>Shoreline</td>\n",
       "      <td>WA 98133</td>\n",
       "      <td>USA</td>\n",
       "    </tr>\n",
       "    <tr>\n",
       "      <th>1</th>\n",
       "      <td>2014-05-02 00:00:00</td>\n",
       "      <td>5.0</td>\n",
       "      <td>2.50</td>\n",
       "      <td>3650</td>\n",
       "      <td>9050</td>\n",
       "      <td>2.0</td>\n",
       "      <td>0</td>\n",
       "      <td>4</td>\n",
       "      <td>5</td>\n",
       "      <td>3370</td>\n",
       "      <td>280</td>\n",
       "      <td>1921</td>\n",
       "      <td>0</td>\n",
       "      <td>709 W Blaine St</td>\n",
       "      <td>Seattle</td>\n",
       "      <td>WA 98119</td>\n",
       "      <td>USA</td>\n",
       "    </tr>\n",
       "    <tr>\n",
       "      <th>2</th>\n",
       "      <td>2014-05-02 00:00:00</td>\n",
       "      <td>3.0</td>\n",
       "      <td>2.00</td>\n",
       "      <td>1930</td>\n",
       "      <td>11947</td>\n",
       "      <td>1.0</td>\n",
       "      <td>0</td>\n",
       "      <td>0</td>\n",
       "      <td>4</td>\n",
       "      <td>1930</td>\n",
       "      <td>0</td>\n",
       "      <td>1966</td>\n",
       "      <td>0</td>\n",
       "      <td>26206-26214 143rd Ave SE</td>\n",
       "      <td>Kent</td>\n",
       "      <td>WA 98042</td>\n",
       "      <td>USA</td>\n",
       "    </tr>\n",
       "    <tr>\n",
       "      <th>3</th>\n",
       "      <td>2014-05-02 00:00:00</td>\n",
       "      <td>3.0</td>\n",
       "      <td>2.25</td>\n",
       "      <td>2000</td>\n",
       "      <td>8030</td>\n",
       "      <td>1.0</td>\n",
       "      <td>0</td>\n",
       "      <td>0</td>\n",
       "      <td>4</td>\n",
       "      <td>1000</td>\n",
       "      <td>1000</td>\n",
       "      <td>1963</td>\n",
       "      <td>0</td>\n",
       "      <td>857 170th Pl NE</td>\n",
       "      <td>Bellevue</td>\n",
       "      <td>WA 98008</td>\n",
       "      <td>USA</td>\n",
       "    </tr>\n",
       "    <tr>\n",
       "      <th>4</th>\n",
       "      <td>2014-05-02 00:00:00</td>\n",
       "      <td>4.0</td>\n",
       "      <td>2.50</td>\n",
       "      <td>1940</td>\n",
       "      <td>10500</td>\n",
       "      <td>1.0</td>\n",
       "      <td>0</td>\n",
       "      <td>0</td>\n",
       "      <td>4</td>\n",
       "      <td>1140</td>\n",
       "      <td>800</td>\n",
       "      <td>1976</td>\n",
       "      <td>1992</td>\n",
       "      <td>9105 170th Ave NE</td>\n",
       "      <td>Redmond</td>\n",
       "      <td>WA 98052</td>\n",
       "      <td>USA</td>\n",
       "    </tr>\n",
       "  </tbody>\n",
       "</table>\n",
       "</div>"
      ],
      "text/plain": [
       "                  date  bedrooms  bathrooms  sqft_living  sqft_lot  floors  \\\n",
       "0  2014-05-02 00:00:00       3.0       1.50         1340      7912     1.5   \n",
       "1  2014-05-02 00:00:00       5.0       2.50         3650      9050     2.0   \n",
       "2  2014-05-02 00:00:00       3.0       2.00         1930     11947     1.0   \n",
       "3  2014-05-02 00:00:00       3.0       2.25         2000      8030     1.0   \n",
       "4  2014-05-02 00:00:00       4.0       2.50         1940     10500     1.0   \n",
       "\n",
       "   waterfront  view  condition  sqft_above  sqft_basement  yr_built  \\\n",
       "0           0     0          3        1340              0      1955   \n",
       "1           0     4          5        3370            280      1921   \n",
       "2           0     0          4        1930              0      1966   \n",
       "3           0     0          4        1000           1000      1963   \n",
       "4           0     0          4        1140            800      1976   \n",
       "\n",
       "   yr_renovated                    street       city  statezip country  \n",
       "0          2005      18810 Densmore Ave N  Shoreline  WA 98133     USA  \n",
       "1             0           709 W Blaine St    Seattle  WA 98119     USA  \n",
       "2             0  26206-26214 143rd Ave SE       Kent  WA 98042     USA  \n",
       "3             0           857 170th Pl NE   Bellevue  WA 98008     USA  \n",
       "4          1992         9105 170th Ave NE    Redmond  WA 98052     USA  "
      ]
     },
     "execution_count": 14,
     "metadata": {},
     "output_type": "execute_result"
    }
   ],
   "source": [
    "train1 = house.drop(['price'],axis=1)\n",
    "train1.head()"
   ]
  },
  {
   "cell_type": "code",
   "execution_count": 15,
   "id": "d04925cf",
   "metadata": {},
   "outputs": [
    {
     "data": {
      "text/plain": [
       "array([1.5, 2. , 1. , 2.5, 3. , 3.5])"
      ]
     },
     "execution_count": 15,
     "metadata": {},
     "output_type": "execute_result"
    }
   ],
   "source": [
    "train1[\"floors\"].unique()"
   ]
  },
  {
   "cell_type": "code",
   "execution_count": 16,
   "id": "1ce614e1",
   "metadata": {},
   "outputs": [
    {
     "data": {
      "image/png": "[encoded data removed]",
      "text/plain": [
       "<Figure size 432x288 with 1 Axes>"
      ]
     },
     "metadata": {
      "needs_background": "light"
     },
     "output_type": "display_data"
    }
   ],
   "source": [
    "train1['floors'].value_counts().plot(kind='bar')\n",
    "plt.title('number of floors')\n",
    "plt.xlabel('Floors')\n",
    "plt.ylabel('Count')\n",
    "plt.show()"
   ]
  },
  {
   "cell_type": "code",
   "execution_count": 17,
   "id": "d94576d4",
   "metadata": {},
   "outputs": [
    {
     "data": {
      "image/png": "[encoded data removed]",
      "text/plain": [
       "<Figure size 432x288 with 1 Axes>"
      ]
     },
     "metadata": {
      "needs_background": "light"
     },
     "output_type": "display_data"
    }
   ],
   "source": [
    "plt.scatter(house.floors,house.price)\n",
    "plt.title(\"Price vs Floors\")\n",
    "plt.show()"
   ]
  },
  {
   "cell_type": "code",
   "execution_count": 18,
   "id": "fa855745",
   "metadata": {},
   "outputs": [
    {
     "data": {
      "text/html": [
       "<div>\n",
       "<style scoped>\n",
       "    .dataframe tbody tr th:only-of-type {\n",
       "        vertical-align: middle;\n",
       "    }\n",
       "\n",
       "    .dataframe tbody tr th {\n",
       "        vertical-align: top;\n",
       "    }\n",
       "\n",
       "    .dataframe thead th {\n",
       "        text-align: right;\n",
       "    }\n",
       "</style>\n",
       "<table border=\"1\" class=\"dataframe\">\n",
       "  <thead>\n",
       "    <tr style=\"text-align: right;\">\n",
       "      <th></th>\n",
       "      <th>date</th>\n",
       "      <th>price</th>\n",
       "      <th>bedrooms</th>\n",
       "      <th>bathrooms</th>\n",
       "      <th>sqft_living</th>\n",
       "      <th>sqft_lot</th>\n",
       "      <th>floors</th>\n",
       "      <th>waterfront</th>\n",
       "      <th>view</th>\n",
       "      <th>condition</th>\n",
       "      <th>sqft_above</th>\n",
       "      <th>sqft_basement</th>\n",
       "      <th>yr_built</th>\n",
       "      <th>yr_renovated</th>\n",
       "      <th>street</th>\n",
       "      <th>city</th>\n",
       "      <th>statezip</th>\n",
       "      <th>country</th>\n",
       "    </tr>\n",
       "  </thead>\n",
       "  <tbody>\n",
       "    <tr>\n",
       "      <th>0</th>\n",
       "      <td>2014-05-02 00:00:00</td>\n",
       "      <td>313000.0</td>\n",
       "      <td>3.0</td>\n",
       "      <td>1.50</td>\n",
       "      <td>1340</td>\n",
       "      <td>7912</td>\n",
       "      <td>1.5</td>\n",
       "      <td>0</td>\n",
       "      <td>0</td>\n",
       "      <td>3</td>\n",
       "      <td>1340</td>\n",
       "      <td>0</td>\n",
       "      <td>1955</td>\n",
       "      <td>2005</td>\n",
       "      <td>18810 Densmore Ave N</td>\n",
       "      <td>Shoreline</td>\n",
       "      <td>WA 98133</td>\n",
       "      <td>USA</td>\n",
       "    </tr>\n",
       "    <tr>\n",
       "      <th>1</th>\n",
       "      <td>2014-05-02 00:00:00</td>\n",
       "      <td>2384000.0</td>\n",
       "      <td>5.0</td>\n",
       "      <td>2.50</td>\n",
       "      <td>3650</td>\n",
       "      <td>9050</td>\n",
       "      <td>2.0</td>\n",
       "      <td>0</td>\n",
       "      <td>4</td>\n",
       "      <td>5</td>\n",
       "      <td>3370</td>\n",
       "      <td>280</td>\n",
       "      <td>1921</td>\n",
       "      <td>0</td>\n",
       "      <td>709 W Blaine St</td>\n",
       "      <td>Seattle</td>\n",
       "      <td>WA 98119</td>\n",
       "      <td>USA</td>\n",
       "    </tr>\n",
       "    <tr>\n",
       "      <th>2</th>\n",
       "      <td>2014-05-02 00:00:00</td>\n",
       "      <td>342000.0</td>\n",
       "      <td>3.0</td>\n",
       "      <td>2.00</td>\n",
       "      <td>1930</td>\n",
       "      <td>11947</td>\n",
       "      <td>1.0</td>\n",
       "      <td>0</td>\n",
       "      <td>0</td>\n",
       "      <td>4</td>\n",
       "      <td>1930</td>\n",
       "      <td>0</td>\n",
       "      <td>1966</td>\n",
       "      <td>0</td>\n",
       "      <td>26206-26214 143rd Ave SE</td>\n",
       "      <td>Kent</td>\n",
       "      <td>WA 98042</td>\n",
       "      <td>USA</td>\n",
       "    </tr>\n",
       "    <tr>\n",
       "      <th>3</th>\n",
       "      <td>2014-05-02 00:00:00</td>\n",
       "      <td>420000.0</td>\n",
       "      <td>3.0</td>\n",
       "      <td>2.25</td>\n",
       "      <td>2000</td>\n",
       "      <td>8030</td>\n",
       "      <td>1.0</td>\n",
       "      <td>0</td>\n",
       "      <td>0</td>\n",
       "      <td>4</td>\n",
       "      <td>1000</td>\n",
       "      <td>1000</td>\n",
       "      <td>1963</td>\n",
       "      <td>0</td>\n",
       "      <td>857 170th Pl NE</td>\n",
       "      <td>Bellevue</td>\n",
       "      <td>WA 98008</td>\n",
       "      <td>USA</td>\n",
       "    </tr>\n",
       "    <tr>\n",
       "      <th>4</th>\n",
       "      <td>2014-05-02 00:00:00</td>\n",
       "      <td>550000.0</td>\n",
       "      <td>4.0</td>\n",
       "      <td>2.50</td>\n",
       "      <td>1940</td>\n",
       "      <td>10500</td>\n",
       "      <td>1.0</td>\n",
       "      <td>0</td>\n",
       "      <td>0</td>\n",
       "      <td>4</td>\n",
       "      <td>1140</td>\n",
       "      <td>800</td>\n",
       "      <td>1976</td>\n",
       "      <td>1992</td>\n",
       "      <td>9105 170th Ave NE</td>\n",
       "      <td>Redmond</td>\n",
       "      <td>WA 98052</td>\n",
       "      <td>USA</td>\n",
       "    </tr>\n",
       "  </tbody>\n",
       "</table>\n",
       "</div>"
      ],
      "text/plain": [
       "                  date      price  bedrooms  bathrooms  sqft_living  sqft_lot  \\\n",
       "0  2014-05-02 00:00:00   313000.0       3.0       1.50         1340      7912   \n",
       "1  2014-05-02 00:00:00  2384000.0       5.0       2.50         3650      9050   \n",
       "2  2014-05-02 00:00:00   342000.0       3.0       2.00         1930     11947   \n",
       "3  2014-05-02 00:00:00   420000.0       3.0       2.25         2000      8030   \n",
       "4  2014-05-02 00:00:00   550000.0       4.0       2.50         1940     10500   \n",
       "\n",
       "   floors  waterfront  view  condition  sqft_above  sqft_basement  yr_built  \\\n",
       "0     1.5           0     0          3        1340              0      1955   \n",
       "1     2.0           0     4          5        3370            280      1921   \n",
       "2     1.0           0     0          4        1930              0      1966   \n",
       "3     1.0           0     0          4        1000           1000      1963   \n",
       "4     1.0           0     0          4        1140            800      1976   \n",
       "\n",
       "   yr_renovated                    street       city  statezip country  \n",
       "0          2005      18810 Densmore Ave N  Shoreline  WA 98133     USA  \n",
       "1             0           709 W Blaine St    Seattle  WA 98119     USA  \n",
       "2             0  26206-26214 143rd Ave SE       Kent  WA 98042     USA  \n",
       "3             0           857 170th Pl NE   Bellevue  WA 98008     USA  \n",
       "4          1992         9105 170th Ave NE    Redmond  WA 98052     USA  "
      ]
     },
     "execution_count": 18,
     "metadata": {},
     "output_type": "execute_result"
    }
   ],
   "source": [
    "house.head()"
   ]
  },
  {
   "cell_type": "code",
   "execution_count": 19,
   "id": "0c066886",
   "metadata": {},
   "outputs": [
    {
     "data": {
      "text/plain": [
       "Index(['date', 'price', 'bedrooms', 'bathrooms', 'sqft_living', 'sqft_lot',\n",
       "       'floors', 'waterfront', 'view', 'condition', 'sqft_above',\n",
       "       'sqft_basement', 'yr_built', 'yr_renovated', 'street', 'city',\n",
       "       'statezip', 'country'],\n",
       "      dtype='object')"
      ]
     },
     "execution_count": 19,
     "metadata": {},
     "output_type": "execute_result"
    }
   ],
   "source": [
    "house.columns"
   ]
  },
  {
   "cell_type": "markdown",
   "id": "a0233131",
   "metadata": {},
   "source": [
    "Feature Engeneering"
   ]
  },
  {
   "cell_type": "code",
   "execution_count": 20,
   "id": "fbc7b2c3",
   "metadata": {},
   "outputs": [],
   "source": [
    "labelencoder = LabelEncoder()\n",
    "house[\"yr_renovated\"]= labelencoder.fit_transform(house[\"yr_renovated\"])\n",
    "house[\"yr_built\"]= labelencoder.fit_transform(house[\"yr_built\"])\n",
    "house[\"street\"]= labelencoder.fit_transform(house[\"street\"])\n",
    "house[\"city\"]= labelencoder.fit_transform(house[\"city\"])\n",
    "house[\"statezip\"]= labelencoder.fit_transform(house[\"statezip\"])\n",
    "house[\"country\"]= labelencoder.fit_transform(house[\"country\"])\n",
    "\n"
   ]
  },
  {
   "cell_type": "code",
   "execution_count": 21,
   "id": "0a399af4",
   "metadata": {
    "scrolled": true
   },
   "outputs": [
    {
     "data": {
      "text/html": [
       "<div>\n",
       "<style scoped>\n",
       "    .dataframe tbody tr th:only-of-type {\n",
       "        vertical-align: middle;\n",
       "    }\n",
       "\n",
       "    .dataframe tbody tr th {\n",
       "        vertical-align: top;\n",
       "    }\n",
       "\n",
       "    .dataframe thead th {\n",
       "        text-align: right;\n",
       "    }\n",
       "</style>\n",
       "<table border=\"1\" class=\"dataframe\">\n",
       "  <thead>\n",
       "    <tr style=\"text-align: right;\">\n",
       "      <th></th>\n",
       "      <th>date</th>\n",
       "      <th>price</th>\n",
       "      <th>bedrooms</th>\n",
       "      <th>bathrooms</th>\n",
       "      <th>sqft_living</th>\n",
       "      <th>sqft_lot</th>\n",
       "      <th>floors</th>\n",
       "      <th>waterfront</th>\n",
       "      <th>view</th>\n",
       "      <th>condition</th>\n",
       "      <th>sqft_above</th>\n",
       "      <th>sqft_basement</th>\n",
       "      <th>yr_built</th>\n",
       "      <th>yr_renovated</th>\n",
       "      <th>street</th>\n",
       "      <th>city</th>\n",
       "      <th>statezip</th>\n",
       "      <th>country</th>\n",
       "    </tr>\n",
       "  </thead>\n",
       "  <tbody>\n",
       "    <tr>\n",
       "      <th>0</th>\n",
       "      <td>2014-05-02 00:00:00</td>\n",
       "      <td>313000.0</td>\n",
       "      <td>3.0</td>\n",
       "      <td>1.50</td>\n",
       "      <td>1340</td>\n",
       "      <td>7912</td>\n",
       "      <td>1.5</td>\n",
       "      <td>0</td>\n",
       "      <td>0</td>\n",
       "      <td>3</td>\n",
       "      <td>1340</td>\n",
       "      <td>0</td>\n",
       "      <td>55</td>\n",
       "      <td>50</td>\n",
       "      <td>1522</td>\n",
       "      <td>36</td>\n",
       "      <td>62</td>\n",
       "      <td>0</td>\n",
       "    </tr>\n",
       "    <tr>\n",
       "      <th>1</th>\n",
       "      <td>2014-05-02 00:00:00</td>\n",
       "      <td>2384000.0</td>\n",
       "      <td>5.0</td>\n",
       "      <td>2.50</td>\n",
       "      <td>3650</td>\n",
       "      <td>9050</td>\n",
       "      <td>2.0</td>\n",
       "      <td>0</td>\n",
       "      <td>4</td>\n",
       "      <td>5</td>\n",
       "      <td>3370</td>\n",
       "      <td>280</td>\n",
       "      <td>21</td>\n",
       "      <td>0</td>\n",
       "      <td>3899</td>\n",
       "      <td>35</td>\n",
       "      <td>58</td>\n",
       "      <td>0</td>\n",
       "    </tr>\n",
       "    <tr>\n",
       "      <th>2</th>\n",
       "      <td>2014-05-02 00:00:00</td>\n",
       "      <td>342000.0</td>\n",
       "      <td>3.0</td>\n",
       "      <td>2.00</td>\n",
       "      <td>1930</td>\n",
       "      <td>11947</td>\n",
       "      <td>1.0</td>\n",
       "      <td>0</td>\n",
       "      <td>0</td>\n",
       "      <td>4</td>\n",
       "      <td>1930</td>\n",
       "      <td>0</td>\n",
       "      <td>66</td>\n",
       "      <td>0</td>\n",
       "      <td>2291</td>\n",
       "      <td>18</td>\n",
       "      <td>26</td>\n",
       "      <td>0</td>\n",
       "    </tr>\n",
       "    <tr>\n",
       "      <th>3</th>\n",
       "      <td>2014-05-02 00:00:00</td>\n",
       "      <td>420000.0</td>\n",
       "      <td>3.0</td>\n",
       "      <td>2.25</td>\n",
       "      <td>2000</td>\n",
       "      <td>8030</td>\n",
       "      <td>1.0</td>\n",
       "      <td>0</td>\n",
       "      <td>0</td>\n",
       "      <td>4</td>\n",
       "      <td>1000</td>\n",
       "      <td>1000</td>\n",
       "      <td>63</td>\n",
       "      <td>0</td>\n",
       "      <td>4263</td>\n",
       "      <td>3</td>\n",
       "      <td>7</td>\n",
       "      <td>0</td>\n",
       "    </tr>\n",
       "    <tr>\n",
       "      <th>4</th>\n",
       "      <td>2014-05-02 00:00:00</td>\n",
       "      <td>550000.0</td>\n",
       "      <td>4.0</td>\n",
       "      <td>2.50</td>\n",
       "      <td>1940</td>\n",
       "      <td>10500</td>\n",
       "      <td>1.0</td>\n",
       "      <td>0</td>\n",
       "      <td>0</td>\n",
       "      <td>4</td>\n",
       "      <td>1140</td>\n",
       "      <td>800</td>\n",
       "      <td>76</td>\n",
       "      <td>37</td>\n",
       "      <td>4352</td>\n",
       "      <td>31</td>\n",
       "      <td>31</td>\n",
       "      <td>0</td>\n",
       "    </tr>\n",
       "  </tbody>\n",
       "</table>\n",
       "</div>"
      ],
      "text/plain": [
       "                  date      price  bedrooms  bathrooms  sqft_living  sqft_lot  \\\n",
       "0  2014-05-02 00:00:00   313000.0       3.0       1.50         1340      7912   \n",
       "1  2014-05-02 00:00:00  2384000.0       5.0       2.50         3650      9050   \n",
       "2  2014-05-02 00:00:00   342000.0       3.0       2.00         1930     11947   \n",
       "3  2014-05-02 00:00:00   420000.0       3.0       2.25         2000      8030   \n",
       "4  2014-05-02 00:00:00   550000.0       4.0       2.50         1940     10500   \n",
       "\n",
       "   floors  waterfront  view  condition  sqft_above  sqft_basement  yr_built  \\\n",
       "0     1.5           0     0          3        1340              0        55   \n",
       "1     2.0           0     4          5        3370            280        21   \n",
       "2     1.0           0     0          4        1930              0        66   \n",
       "3     1.0           0     0          4        1000           1000        63   \n",
       "4     1.0           0     0          4        1140            800        76   \n",
       "\n",
       "   yr_renovated  street  city  statezip  country  \n",
       "0            50    1522    36        62        0  \n",
       "1             0    3899    35        58        0  \n",
       "2             0    2291    18        26        0  \n",
       "3             0    4263     3         7        0  \n",
       "4            37    4352    31        31        0  "
      ]
     },
     "execution_count": 21,
     "metadata": {},
     "output_type": "execute_result"
    }
   ],
   "source": [
    "house.head()"
   ]
  },
  {
   "cell_type": "markdown",
   "id": "14a6447d",
   "metadata": {},
   "source": [
    "SPLITTTING DATASET"
   ]
  },
  {
   "cell_type": "code",
   "execution_count": 22,
   "id": "6d3133f3",
   "metadata": {},
   "outputs": [],
   "source": [
    "conv_dates = [1 if values == 2014 else 0 for values in house.date ]\n",
    "house['date'] = conv_dates\n",
    "x = house.drop(['price'],axis=1)"
   ]
  },
  {
   "cell_type": "code",
   "execution_count": 23,
   "id": "67eee3dd",
   "metadata": {},
   "outputs": [],
   "source": [
    "y = house[\"price\"]"
   ]
  },
  {
   "cell_type": "code",
   "execution_count": 24,
   "id": "654a420b",
   "metadata": {
    "scrolled": true
   },
   "outputs": [
    {
     "data": {
      "text/html": [
       "<div>\n",
       "<style scoped>\n",
       "    .dataframe tbody tr th:only-of-type {\n",
       "        vertical-align: middle;\n",
       "    }\n",
       "\n",
       "    .dataframe tbody tr th {\n",
       "        vertical-align: top;\n",
       "    }\n",
       "\n",
       "    .dataframe thead th {\n",
       "        text-align: right;\n",
       "    }\n",
       "</style>\n",
       "<table border=\"1\" class=\"dataframe\">\n",
       "  <thead>\n",
       "    <tr style=\"text-align: right;\">\n",
       "      <th></th>\n",
       "      <th>date</th>\n",
       "      <th>bedrooms</th>\n",
       "      <th>bathrooms</th>\n",
       "      <th>sqft_living</th>\n",
       "      <th>sqft_lot</th>\n",
       "      <th>floors</th>\n",
       "      <th>waterfront</th>\n",
       "      <th>view</th>\n",
       "      <th>condition</th>\n",
       "      <th>sqft_above</th>\n",
       "      <th>sqft_basement</th>\n",
       "      <th>yr_built</th>\n",
       "      <th>yr_renovated</th>\n",
       "      <th>street</th>\n",
       "      <th>city</th>\n",
       "      <th>statezip</th>\n",
       "      <th>country</th>\n",
       "    </tr>\n",
       "  </thead>\n",
       "  <tbody>\n",
       "    <tr>\n",
       "      <th>0</th>\n",
       "      <td>0</td>\n",
       "      <td>3.0</td>\n",
       "      <td>1.50</td>\n",
       "      <td>1340</td>\n",
       "      <td>7912</td>\n",
       "      <td>1.5</td>\n",
       "      <td>0</td>\n",
       "      <td>0</td>\n",
       "      <td>3</td>\n",
       "      <td>1340</td>\n",
       "      <td>0</td>\n",
       "      <td>55</td>\n",
       "      <td>50</td>\n",
       "      <td>1522</td>\n",
       "      <td>36</td>\n",
       "      <td>62</td>\n",
       "      <td>0</td>\n",
       "    </tr>\n",
       "    <tr>\n",
       "      <th>1</th>\n",
       "      <td>0</td>\n",
       "      <td>5.0</td>\n",
       "      <td>2.50</td>\n",
       "      <td>3650</td>\n",
       "      <td>9050</td>\n",
       "      <td>2.0</td>\n",
       "      <td>0</td>\n",
       "      <td>4</td>\n",
       "      <td>5</td>\n",
       "      <td>3370</td>\n",
       "      <td>280</td>\n",
       "      <td>21</td>\n",
       "      <td>0</td>\n",
       "      <td>3899</td>\n",
       "      <td>35</td>\n",
       "      <td>58</td>\n",
       "      <td>0</td>\n",
       "    </tr>\n",
       "    <tr>\n",
       "      <th>2</th>\n",
       "      <td>0</td>\n",
       "      <td>3.0</td>\n",
       "      <td>2.00</td>\n",
       "      <td>1930</td>\n",
       "      <td>11947</td>\n",
       "      <td>1.0</td>\n",
       "      <td>0</td>\n",
       "      <td>0</td>\n",
       "      <td>4</td>\n",
       "      <td>1930</td>\n",
       "      <td>0</td>\n",
       "      <td>66</td>\n",
       "      <td>0</td>\n",
       "      <td>2291</td>\n",
       "      <td>18</td>\n",
       "      <td>26</td>\n",
       "      <td>0</td>\n",
       "    </tr>\n",
       "    <tr>\n",
       "      <th>3</th>\n",
       "      <td>0</td>\n",
       "      <td>3.0</td>\n",
       "      <td>2.25</td>\n",
       "      <td>2000</td>\n",
       "      <td>8030</td>\n",
       "      <td>1.0</td>\n",
       "      <td>0</td>\n",
       "      <td>0</td>\n",
       "      <td>4</td>\n",
       "      <td>1000</td>\n",
       "      <td>1000</td>\n",
       "      <td>63</td>\n",
       "      <td>0</td>\n",
       "      <td>4263</td>\n",
       "      <td>3</td>\n",
       "      <td>7</td>\n",
       "      <td>0</td>\n",
       "    </tr>\n",
       "    <tr>\n",
       "      <th>4</th>\n",
       "      <td>0</td>\n",
       "      <td>4.0</td>\n",
       "      <td>2.50</td>\n",
       "      <td>1940</td>\n",
       "      <td>10500</td>\n",
       "      <td>1.0</td>\n",
       "      <td>0</td>\n",
       "      <td>0</td>\n",
       "      <td>4</td>\n",
       "      <td>1140</td>\n",
       "      <td>800</td>\n",
       "      <td>76</td>\n",
       "      <td>37</td>\n",
       "      <td>4352</td>\n",
       "      <td>31</td>\n",
       "      <td>31</td>\n",
       "      <td>0</td>\n",
       "    </tr>\n",
       "  </tbody>\n",
       "</table>\n",
       "</div>"
      ],
      "text/plain": [
       "   date  bedrooms  bathrooms  sqft_living  sqft_lot  floors  waterfront  view  \\\n",
       "0     0       3.0       1.50         1340      7912     1.5           0     0   \n",
       "1     0       5.0       2.50         3650      9050     2.0           0     4   \n",
       "2     0       3.0       2.00         1930     11947     1.0           0     0   \n",
       "3     0       3.0       2.25         2000      8030     1.0           0     0   \n",
       "4     0       4.0       2.50         1940     10500     1.0           0     0   \n",
       "\n",
       "   condition  sqft_above  sqft_basement  yr_built  yr_renovated  street  city  \\\n",
       "0          3        1340              0        55            50    1522    36   \n",
       "1          5        3370            280        21             0    3899    35   \n",
       "2          4        1930              0        66             0    2291    18   \n",
       "3          4        1000           1000        63             0    4263     3   \n",
       "4          4        1140            800        76            37    4352    31   \n",
       "\n",
       "   statezip  country  \n",
       "0        62        0  \n",
       "1        58        0  \n",
       "2        26        0  \n",
       "3         7        0  \n",
       "4        31        0  "
      ]
     },
     "execution_count": 24,
     "metadata": {},
     "output_type": "execute_result"
    }
   ],
   "source": [
    "x.head()"
   ]
  },
  {
   "cell_type": "code",
   "execution_count": 25,
   "id": "721939e1",
   "metadata": {},
   "outputs": [
    {
     "data": {
      "text/plain": [
       "0     313000.0\n",
       "1    2384000.0\n",
       "2     342000.0\n",
       "3     420000.0\n",
       "4     550000.0\n",
       "Name: price, dtype: float64"
      ]
     },
     "execution_count": 25,
     "metadata": {},
     "output_type": "execute_result"
    }
   ],
   "source": [
    "y.head()"
   ]
  },
  {
   "cell_type": "code",
   "execution_count": 26,
   "id": "25c93462",
   "metadata": {},
   "outputs": [],
   "source": [
    "from sklearn.model_selection import train_test_split\n"
   ]
  },
  {
   "cell_type": "code",
   "execution_count": 27,
   "id": "6a7c9d17",
   "metadata": {
    "scrolled": true
   },
   "outputs": [],
   "source": [
    "X_train , X_test , y_train , y_test = train_test_split(x,y,train_size=0.80)"
   ]
  },
  {
   "cell_type": "markdown",
   "id": "ebd2e3f8",
   "metadata": {},
   "source": [
    "Feature Scaling"
   ]
  },
  {
   "cell_type": "code",
   "execution_count": 28,
   "id": "90857fb2",
   "metadata": {},
   "outputs": [],
   "source": [
    "standardscaler = StandardScaler()\n",
    "x_train = standardscaler.fit(X_train)\n",
    "x_test = standardscaler.fit_transform(X_test)"
   ]
  },
  {
   "cell_type": "markdown",
   "id": "2e748639",
   "metadata": {},
   "source": [
    "# Algorithm"
   ]
  },
  {
   "cell_type": "code",
   "execution_count": 29,
   "id": "001be42d",
   "metadata": {},
   "outputs": [
    {
     "data": {
      "text/plain": [
       "LinearRegression()"
      ]
     },
     "execution_count": 29,
     "metadata": {},
     "output_type": "execute_result"
    }
   ],
   "source": [
    "from sklearn.linear_model import LinearRegression\n",
    "\n",
    "linearregression = LinearRegression()\n",
    "linearregression.fit(X_train,y_train)"
   ]
  },
  {
   "cell_type": "code",
   "execution_count": 30,
   "id": "83f01150",
   "metadata": {},
   "outputs": [],
   "source": [
    "y_predict = linearregression.predict(X_test)"
   ]
  },
  {
   "cell_type": "code",
   "execution_count": 31,
   "id": "4f3a9f9b",
   "metadata": {},
   "outputs": [
    {
     "data": {
      "text/plain": [
       "array([ 337883.01443724,  542396.49638982,  431767.93822207,\n",
       "        377944.97356644,  653809.48747362,  292808.87376435,\n",
       "        866638.23336054,  497100.29349912,  550337.71750682,\n",
       "        571548.23388898,  644174.91207781, 1020859.54617372,\n",
       "        487098.49895285,  377510.0845102 ,  352835.37439041,\n",
       "        799441.58443912,  593907.42526558,  316804.23254078,\n",
       "        406360.30620746, 1338526.26380383,  505391.0268549 ,\n",
       "        602855.03992988,  332622.80623147,  206628.40318017,\n",
       "        670086.08475093,  701838.6553842 ,  726016.37409984,\n",
       "        426369.21581286,  528757.77809492,  392349.83039951,\n",
       "        437757.7376126 ,  519153.3217494 ,  268812.55635199,\n",
       "        641202.45395829, 1180390.92162915,  291065.38110325,\n",
       "        953250.85761248,  508194.18643937,  367879.57669534,\n",
       "       1250118.9353955 ,  437465.22911619,  357925.72472586,\n",
       "        558592.88682463,  533805.16394078,  336900.02952196,\n",
       "        475297.90870834,  388222.0720378 ,  252140.74417262,\n",
       "        743182.28516307,  236618.32961072,  305288.70840249,\n",
       "        585436.11774628,  220745.40562456,  544990.73576734,\n",
       "        314280.61742175,  373486.25378287,  459384.18997813,\n",
       "        359316.25102477,  860527.36289805,  569076.08572632,\n",
       "        416160.32997227,  332443.94747676, 1076978.08814159,\n",
       "        489692.56207694,  837762.94695882,  866332.99774567,\n",
       "        385423.89597633,  452596.05469868,  611136.98121389,\n",
       "        493565.19672806,  612333.63790333,  479987.72939768,\n",
       "        434297.07503461,  613391.87836011, 1022585.46569507,\n",
       "        690962.57212772,  461730.49734077,  629277.40246853,\n",
       "        593910.84463417,  305403.16449832,  880255.1823233 ,\n",
       "        485364.20916547,  416595.79288977,  559590.35432375,\n",
       "        357246.52317205,  454421.25918326,  748425.68474449,\n",
       "        339881.56116968,  372982.6280392 ,  542700.15830947,\n",
       "        603611.83220824,  604427.28502211,  666786.41726074,\n",
       "        945629.16545695,  457139.35754907,  946482.20454118,\n",
       "        837445.52172698,  508398.80026984,  298871.84847536,\n",
       "        500291.96136177,  934483.96717014,  552664.16361847,\n",
       "        363363.09909563,  844788.74332489,  705536.6411888 ,\n",
       "        300058.99767437,  463789.99020105,  282044.64735526,\n",
       "        378853.16384555,  295938.8196613 , 1050854.78703515,\n",
       "        787354.93926397,  461814.0017723 ,  346162.6329029 ,\n",
       "        236710.42780788,  262399.73565959,  440726.00215832,\n",
       "        816163.95507598,  519656.22729975, 1326519.90335826,\n",
       "       1023505.5604985 ,  747290.5856737 ,  737706.9944776 ,\n",
       "        407496.45260025,  549754.78223393,  309581.71484189,\n",
       "        874051.53700886,  520590.85922076,  476675.90349462,\n",
       "        373603.92722179,  602182.77160606,  286867.96982567,\n",
       "        910633.97189331,  590325.87230645,  557266.26873815,\n",
       "        659614.10624029,  664004.51794962, 1191493.06347107,\n",
       "        421583.0494365 ,  456449.22771129, 2978814.87900377,\n",
       "        270606.34500964, 1018483.59526546,  782211.17882441,\n",
       "        503807.7567388 ,  207709.25322574,  271414.43185852,\n",
       "        622427.84913694,  631595.55700845,  316647.79003193,\n",
       "        245360.18024789,  541378.07860764,  466827.1861607 ,\n",
       "        481576.10396198,  506751.19763747,  389930.62042647,\n",
       "        284355.63510832,  284091.74221788,  667683.52560835,\n",
       "        526167.45251018,  394554.28160251,  783061.35809576,\n",
       "        285154.24894007,  458013.28045491,  664811.0636478 ,\n",
       "        557511.44956448,  682295.94065273,  395056.75052786,\n",
       "        523802.49034641,  462658.31197586,  870532.12494573,\n",
       "        424798.52381319,  321050.93392069,  482899.09213123,\n",
       "        189929.51995248,  838841.32457793, 1141852.07526418,\n",
       "        653235.14605116,  624914.27254585,  591154.65985183,\n",
       "        303851.24292004,  343780.0141677 ,  575205.69414609,\n",
       "        274245.31105868,  473659.1292261 ,  813763.42498985,\n",
       "        348712.01242121,  597742.09768241,  699577.06465378,\n",
       "        645194.76253055,  494286.38021905, 1937437.26133281,\n",
       "        857108.88910883,  265839.40339936,  871820.04123373,\n",
       "        440004.57903279,  490176.60910482,  432779.84723658,\n",
       "        975499.23390526,  430646.02926408, 1060875.39879661,\n",
       "        465490.19238981,  391908.47880318,  879859.36367654,\n",
       "        491331.0209732 ,  570947.8661765 ,  347544.58493482,\n",
       "        480004.73110752,  386557.1634257 ,  772911.4570783 ,\n",
       "        516650.59760536,  375758.44965775,  478116.54389394,\n",
       "        678683.02758683,  682119.50456183,  521165.52297995,\n",
       "        555389.29403314,  344965.04664237,  528469.2273867 ,\n",
       "        289008.0745408 ,  452040.53557418,  580379.36588924,\n",
       "        264488.79511602,  276389.48417619,  594015.50464399,\n",
       "        353409.2322286 ,  394093.76302155,  523099.45617979,\n",
       "        618675.55047962,  460738.22065984,  149104.12523178,\n",
       "        888610.17446505,  569241.42928573,  493087.95476574,\n",
       "        781596.11148812,  757984.48598821,  263587.28762827,\n",
       "        800671.77290824,  391468.35517799,  576972.39276616,\n",
       "        982631.00401765,  821772.89255109,  516096.90978033,\n",
       "        204792.7161069 ,  555654.05851551,  373249.31122935,\n",
       "       1128026.09538361,  519973.89101777,  531244.34103072,\n",
       "        370131.32819344,  434321.99016232,  885188.7700506 ,\n",
       "        430559.13044622,  812705.34705772,  655242.62258876,\n",
       "        381321.55665531,  976493.79289528,  401255.86454546,\n",
       "        450553.14549311,  410106.80537531,  439714.5846266 ,\n",
       "        624268.47200482, 1189531.0301104 ,  259549.57984147,\n",
       "        437785.14046176,  331429.91756868,  472008.56945086,\n",
       "        994305.99863725,  390716.68266549,  266657.86094908,\n",
       "        132305.74849612,  510853.49416618,  325357.7734281 ,\n",
       "        498103.36706439,  768604.75394656,  314228.92644056,\n",
       "        508611.91826342,  968319.31052692,  192950.88294103,\n",
       "        346054.93636466,  523613.23542324,  316820.79213899,\n",
       "        405045.42359969, 1097825.59298794,  759598.33057849,\n",
       "        309684.99088579,  291425.16465647,  268503.44740182,\n",
       "        400334.73181274,  850299.96454344,  773034.43943794,\n",
       "        435489.98970865,  628726.22009951,  290937.39181646,\n",
       "        433658.48524418,  320437.78806779,  399348.83893246,\n",
       "        984633.0226593 ,  663349.76095769,  504179.0041958 ,\n",
       "        343642.50223915,  146288.63423615,  348824.7750855 ,\n",
       "        246925.76163144,  514970.21509769,  362554.48693999,\n",
       "        524562.62659252,  512547.17684905,  547144.32652784,\n",
       "        474995.88826098,  320981.76339289,  310850.02569213,\n",
       "        574495.17428873,  374752.32707026,  842969.50989604,\n",
       "        735619.41256998,  346924.1609313 ,  367178.63197908,\n",
       "        441577.2037664 ,  558122.47738144,  453127.55836778,\n",
       "        314691.40636   ,  347270.78474253,  567808.82384528,\n",
       "        408646.17525838,  469017.17433422,  697737.22152335,\n",
       "        542921.01120358,  445998.08219151,  327240.92584133,\n",
       "        432048.84832482,  296525.6519556 ,  456726.36451789,\n",
       "        720440.41382652,  476867.0277317 ,  325030.09926483,\n",
       "        313563.59466074,  517486.37849299,  484414.08143804,\n",
       "        689334.05070691,  280143.46236221,  279506.59859727,\n",
       "        588655.19642601,  400486.25249893,  322603.41222093,\n",
       "        490673.50501348,  753601.54915653,  475861.5602263 ,\n",
       "        429405.01960658,  523283.01738322,  558402.20578382,\n",
       "        508227.94722088,  808104.09239393,  360492.03703485,\n",
       "        544484.67245886,  236168.62198399,  499014.23052252,\n",
       "        270214.93524289,  359630.1616404 ,  765626.7759333 ,\n",
       "        315230.65582958,  181016.48924584,  879332.93418093,\n",
       "        328500.32978954,  370110.75976117,  588711.34413548,\n",
       "        555588.30597576,  682667.14680411,  951495.71943092,\n",
       "        156724.58716401,  850663.91362745,  606528.17934944,\n",
       "        351734.27232306,  632930.32973617,  381801.11299005,\n",
       "        616095.25478541,  718578.89337818,  523726.31093241,\n",
       "        535605.36291108,  486665.47208852,  580100.09796208,\n",
       "        352167.82089562,  333052.23041159,  668967.48548465,\n",
       "        756141.46185838,  221988.25117023,  371753.58176147,\n",
       "        810016.68355049,  415385.31979823,  371775.35795455,\n",
       "        994924.88118646,  540997.33600834,  987748.22228389,\n",
       "        472315.74966854,  530612.88531597,  893915.54744009,\n",
       "        566634.54808657,  181533.20964668,  457926.36342365,\n",
       "        734454.09218401,  362909.14496905,  726185.74545874,\n",
       "       1059287.70980154,  586187.64747031,  375644.02607126,\n",
       "        376391.45564386,  308880.26577272,  572818.67884969,\n",
       "       1071034.59861186,  654957.16293372,  647374.97187575,\n",
       "        917415.47609625,  549155.24906523,  633865.33897186,\n",
       "        625642.88101288,  546969.3045183 ,  445339.08016596,\n",
       "        474822.3771368 ,  783374.70538   ,  243589.9858567 ,\n",
       "        246811.64420578,  512242.5201309 ,  673206.73723619,\n",
       "        476542.15461724, 1035019.72176655,  165527.39616479,\n",
       "        805395.15649191,  740277.58761752,  377845.5540492 ,\n",
       "        725970.16128044,  220036.56906894,  633165.73866241,\n",
       "        509790.30935918,  518079.42023749,  319645.29616964,\n",
       "        212284.42599645,  683278.77634167,  670755.86576715,\n",
       "        386978.20519394,  387996.04002078,  510141.82691745,\n",
       "        674294.72726456,  674734.03126174,  418181.09236981,\n",
       "        403842.00922287,  647652.10870444,  643114.23346112,\n",
       "       1022599.96022874,  717751.20542915,  555698.71920123,\n",
       "        527269.69149257,  500644.39008366,  522556.82848267,\n",
       "        643102.54206448,  245794.4724549 ,  537610.9955552 ,\n",
       "        391993.57619147,  964017.66271175,  552866.2021459 ,\n",
       "        935564.30963327,  824115.71203623,  335362.25580694,\n",
       "        446279.77151399,  543256.32064131,  643154.14931531,\n",
       "        649378.96776204,  471240.7791876 ,  409543.49377692,\n",
       "        443589.08508303,  448032.70166257, 1053941.4533303 ,\n",
       "        291462.24213305,  736972.89787677, 1119109.77824122,\n",
       "        785870.82438237,  885616.29089775,  538588.14003754,\n",
       "       1486795.57031727,  352407.8276786 ,  342689.25353484,\n",
       "        606278.82355181, 1302906.09268994,  709430.71067175,\n",
       "        250447.02655531,  580773.0975827 ,  559277.03063901,\n",
       "        541516.37463918,  624070.21791658,  343331.85468185,\n",
       "        607007.23771305,  374387.70093104,  924233.6154307 ,\n",
       "        409325.71356051,  407771.90344677,  458707.28696604,\n",
       "       1554706.16077574,  408567.56733407,  489446.0895801 ,\n",
       "        396898.91993559,  306603.88711202,  479395.80825838,\n",
       "        353504.01911572,  477209.05552647,  464616.5877756 ,\n",
       "        486440.75612574,  836205.42702269,  450359.62324487,\n",
       "        267935.38976894,  441159.81231711,  455916.64504164,\n",
       "       1568123.34021966,  308684.84010222,  868622.38593278,\n",
       "        564693.48199783,  322652.58021444,  300323.04101658,\n",
       "        463569.48902566,  468467.16986777,  543895.13321552,\n",
       "        422388.21797957,  606892.63127464,  543028.80637183,\n",
       "        504294.54912163,  288101.14116596,  568464.72861341,\n",
       "        308591.3877143 ,  575062.08780168,  706962.84716566,\n",
       "        585972.84588902,  717739.58035317,  470386.34892591,\n",
       "        638631.54475865,  394504.37923846,  316020.81220877,\n",
       "        334016.87877699,  276343.67304877,  845705.12423991,\n",
       "        255842.16803002,  352875.55262901,  409590.45412835,\n",
       "        278394.69295483,  588390.98348984,  508034.90864226,\n",
       "        266427.01774794,  360082.88143765,  368799.04237754,\n",
       "        291001.29521437,  495594.01552135,  288951.43486806,\n",
       "        629069.33300836,  144965.71493659,  913991.78612869,\n",
       "        312685.71808518,  245381.50777681,  368251.94912531,\n",
       "        958446.30068926,  767281.2907895 ,  978573.17443767,\n",
       "        856316.73611388, 1034874.76294395,  452524.19941636,\n",
       "        247305.11086498,  368354.30782333,  264563.66436973,\n",
       "        671268.72612121,  275950.17026661,  278624.43370361,\n",
       "        855759.89380489,  833597.92688167,  465152.47259916,\n",
       "        397206.73022417,  707138.07195623,  372104.93181836,\n",
       "       1227586.79228382,  524228.42817579,  431884.06665857,\n",
       "       2491528.0330103 , 1073202.67350363,  865150.15155529,\n",
       "        238454.04181678,  474697.17129119,  616961.99653748,\n",
       "       1278231.43451431,  553010.10021341,  670444.40738135,\n",
       "        548854.43318975, 1148106.82893463,  522032.79847597,\n",
       "        520136.64488383,  633680.97657873,  433972.30752966,\n",
       "        428510.51804091,  788759.60605574,  587904.31111494,\n",
       "        622867.50257912,  298074.55036507,  728976.41619955,\n",
       "        486479.46719028,  634335.33120096, 1021399.59254045,\n",
       "        488785.72626145,  590673.62942046,  442130.770235  ,\n",
       "        330160.23249515,  487991.1762299 ,  543086.51825674,\n",
       "        525005.37907412,  645039.12039538,  323642.86859631,\n",
       "        419521.12945858,  288087.18024371,  610147.85014148,\n",
       "        489049.60803883,  694972.71294718,  407104.20478118,\n",
       "        966470.80195902, 1074113.14434874,  741958.81303485,\n",
       "        394314.80760784,  367088.49763161,  292965.58566896,\n",
       "        325820.63061378,  843948.55493761,  763843.90408221,\n",
       "        612458.85579564, 1048495.52569006,  708588.68075249,\n",
       "        525280.97640065,  277431.82369691,  150884.9449621 ,\n",
       "        608934.49457239,  630463.89322744,  324725.2259822 ,\n",
       "        747011.13870649,  445488.35563863,  636350.88785162,\n",
       "        632763.58887426,  335469.98065769,  517877.90281761,\n",
       "        318402.33359837,  624239.61497641, 1106758.1613606 ,\n",
       "        811596.91825022,  323147.12624212,  463609.98009329,\n",
       "        392508.59520109,  472013.74430436,  410444.46944655,\n",
       "        357730.48171145,  340104.2827023 ,  465695.8609666 ,\n",
       "        460349.94132647,  393044.72781821,  962404.38938003,\n",
       "        624806.53609065,  515884.54882291,  875621.01031325,\n",
       "        768663.01918406,  307511.38235935,  687693.31787342,\n",
       "        585055.11616335,  878499.27835554,  484453.20173621,\n",
       "        616748.68829282,  533951.80742482,  457110.9381749 ,\n",
       "        750866.68508026,  327059.30372799,  580420.60286742,\n",
       "        917895.7824455 ,  615299.70987923,  613787.78115147,\n",
       "        288783.25714922,  970870.83525827,  685409.6661384 ,\n",
       "        407547.78236585,  378113.79869522,  708440.22861915,\n",
       "        592735.63125022, 1395153.04537957,  777974.18912562,\n",
       "        258618.03624168,  284146.68540126,  632538.31651059,\n",
       "        537234.22028868,  731804.58391008,  359107.32126249,\n",
       "        923119.01854994,  718084.28534132,  909290.32543918,\n",
       "        501229.96947364, 1806862.76184665,  457834.43358313,\n",
       "        275020.83457089,  594185.82298066,  668026.65564083,\n",
       "        323199.15733644,  733793.79890813,  373500.39418376,\n",
       "        297120.46616113,  419374.1538958 ,  749305.0926181 ,\n",
       "        487228.07057811,  654266.72847659, 1351368.16145443,\n",
       "        436058.28761993,  432903.837718  ,  947649.16584396,\n",
       "        529638.16772415,  239246.48364372,  509259.00667732,\n",
       "        563296.55132334,  440303.45193875,  266485.51974169,\n",
       "        460962.26471458,  874639.60062449,  248227.73410252,\n",
       "        925399.69659531,  370791.17430052,  363230.16358241,\n",
       "        862229.965219  ,  156323.03928673,  824809.22678738,\n",
       "        483630.70405026,  456522.86323643,  902949.35814256,\n",
       "        623835.51220674,  754865.31742505,  297070.5341265 ,\n",
       "        352152.61258689,  620115.34994373, 1408661.04433912,\n",
       "        332664.91873186,  498608.57600782,  726902.2864278 ,\n",
       "        562902.61568414,  566542.04940742, 1178044.03025565,\n",
       "        514547.54690208,  423829.4105308 ,  340848.436127  ,\n",
       "        334177.96293858,  800423.27326421,  239922.81949304,\n",
       "        426874.94204745,  380307.6313082 ,  342805.7654933 ,\n",
       "        359477.09038212,  349755.34122998,  309597.34267424,\n",
       "        393405.54084294,  395325.1051142 ,  743369.12817531,\n",
       "        712787.43427766,  443771.46248047,  519558.49373821,\n",
       "        421690.65059064,  433564.50039723,  669323.04186616,\n",
       "        502188.51028703,  592500.02137538,  823622.89027082,\n",
       "        583919.21544498,  949054.74270339,  654509.46771701,\n",
       "        600151.31006405,  365321.1961068 ,  314873.87687851,\n",
       "        409895.86627282,  352623.01112546, 1100008.29795067,\n",
       "        696688.94602986,  501900.66046106,  266973.7046705 ,\n",
       "        231216.01058004, 1349737.61821693,  402713.83650939,\n",
       "        327553.16446222,  417053.6843183 ,  599120.02381315,\n",
       "        549101.12778767,  311139.62618478,  713697.69105819,\n",
       "        570795.65149366, 1435311.52961786,  588736.04759753,\n",
       "        190805.66114342,  905867.33662655,  436635.69373162,\n",
       "        217200.00020075,  731006.47902755,  406953.09164655,\n",
       "        404250.79266213,  574652.79367013,  801806.33547013,\n",
       "        401554.84332969,  407946.49252547,  615447.42799546,\n",
       "        855553.43942325,  765397.67751818,  404295.92855396,\n",
       "        832402.68550764,  480341.96195753,  684323.28425841,\n",
       "       1173261.74059785,  531039.61212911,  313351.16445272,\n",
       "        415238.40734922,  309699.43658292,  587617.44690875,\n",
       "        541031.03316233,  514528.00159608,  948853.10285874,\n",
       "        651332.07868092,  656443.40129799,  540193.45320474,\n",
       "        830306.4442741 ,  674056.65616584,  402741.4240819 ,\n",
       "        611866.14668737,  632321.07953972,  248981.75602759,\n",
       "        654557.85129166,  962894.17391907,  351807.38562555,\n",
       "       1418801.18274643,  463400.88377754, 1564112.35496895,\n",
       "        836389.53123552,  314906.73777557,  511114.69192484,\n",
       "        721002.02887185,  605193.94944406,  914951.37838108,\n",
       "        283134.71026508,  520757.67896423,  415911.70821524,\n",
       "        381259.51366967,  902125.24110418,  253562.5353315 ,\n",
       "        598698.81263737,  643677.72745693,  356227.30794359,\n",
       "        456479.3037702 ,  521555.63735807, 1318668.71590427,\n",
       "        767718.721034  ,  252998.65167303,  824085.41318658,\n",
       "        548715.10472556,  319732.55286115,  448601.15875595,\n",
       "        338450.55430927,  515112.43284788,  749828.91055889,\n",
       "        415642.76869067, 1125670.0619398 ,  617935.59060762,\n",
       "        458398.67763464,  323603.76937262,  986788.62953452,\n",
       "        506925.26979813,  704089.48997586,  506809.85359225,\n",
       "        368104.84137361,  176531.97457277,  720180.64409586,\n",
       "        338536.13852758,  412451.20703618, 3534424.17062961,\n",
       "        672514.41529636,  165430.07976618,  434171.74721593,\n",
       "        287752.68717136,  496165.19778692,  211004.52480312,\n",
       "        355673.10036972,  530768.66408294,  607121.04951777,\n",
       "        416955.21464886,  920524.57686295,  589342.46965397,\n",
       "        404488.32908401,  413782.73475972,  393443.93662289,\n",
       "        742548.30690179,  417944.09036072,  757247.90452118,\n",
       "        703624.07273614,  610044.93879474,  572344.46056251,\n",
       "        405602.84709167,  252153.51270638,  714308.39742412,\n",
       "        895851.37219984,  541313.75423735,  806901.61413083,\n",
       "        479266.037738  , 1301770.37241349,  443819.06028173,\n",
       "        636918.36384878,  583749.01088912,  266026.34921253,\n",
       "        783758.93947344,  623203.44828082,  736343.13692282,\n",
       "        625120.9532699 , 1913974.83741003,  462568.97692839,\n",
       "        425057.90109173, 1127320.0590498 ,  615179.64188489,\n",
       "        321224.2939594 ,  276546.64376907,  298521.86936981,\n",
       "        315418.64961496,  369536.55140178,  238921.8607615 ,\n",
       "        499287.39354401,  561748.8724546 ])"
      ]
     },
     "execution_count": 31,
     "metadata": {},
     "output_type": "execute_result"
    }
   ],
   "source": [
    "y_predict"
   ]
  },
  {
   "cell_type": "code",
   "execution_count": 32,
   "id": "8829f831",
   "metadata": {
    "scrolled": true
   },
   "outputs": [
    {
     "name": "stdout",
     "output_type": "stream",
     "text": [
      "Coefficient  [ 0.00000000e+00 -6.37791020e+04  5.35998320e+04  1.68479350e+02\n",
      " -6.01070475e-01  2.71755515e+04  2.82060245e+05  4.34879259e+04\n",
      "  3.77754336e+04  9.87059100e+01  6.97734399e+01 -2.22799110e+03\n",
      "  3.86179368e+02 -8.79509021e-01  2.91680298e+03 -1.26145350e+03\n",
      "  0.00000000e+00] \n",
      "\n",
      "Intercept  42606.29207944998\n"
     ]
    }
   ],
   "source": [
    "print(\"Coefficient \",linearregression.coef_ ,\"\\n\")\n",
    "print(\"Intercept \" ,linearregression.intercept_)"
   ]
  },
  {
   "cell_type": "code",
   "execution_count": 33,
   "id": "a22b584d",
   "metadata": {},
   "outputs": [],
   "source": [
    "from sklearn.metrics import mean_squared_error , r2_score"
   ]
  },
  {
   "cell_type": "code",
   "execution_count": 34,
   "id": "795b029d",
   "metadata": {
    "scrolled": true
   },
   "outputs": [
    {
     "name": "stdout",
     "output_type": "stream",
     "text": [
      "Mean Square error  71628108360.91077\n"
     ]
    }
   ],
   "source": [
    "print(\"Mean Square error \",  mean_squared_error(y_test,y_predict))"
   ]
  },
  {
   "cell_type": "code",
   "execution_count": 35,
   "id": "d2948a44",
   "metadata": {},
   "outputs": [
    {
     "name": "stdout",
     "output_type": "stream",
     "text": [
      "Accuracy 0.5554744086317659\n"
     ]
    }
   ],
   "source": [
    "print(\"Accuracy\",r2_score(y_test,y_predict))"
   ]
  },
  {
   "cell_type": "code",
   "execution_count": 36,
   "id": "1b446a94",
   "metadata": {},
   "outputs": [
    {
     "data": {
      "image/png": "[encoded data removed]",
      "text/plain": [
       "<Figure size 576x432 with 1 Axes>"
      ]
     },
     "metadata": {
      "needs_background": "light"
     },
     "output_type": "display_data"
    }
   ],
   "source": [
    "# Create a scatter plot\n",
    "plt.figure(figsize=(8, 6))\n",
    "plt.scatter(y_test, y_predict,color = 'green')\n",
    "plt.xlabel(\"ytest - predicted values\")\n",
    "plt.ylabel(\"Yhattest - Predictions\")\n",
    "plt.plot(y_test, y_test, color = 'red', linewidth = 2)\n",
    "plt.title('actual price and predicted price')\n",
    "plt.show()"
   ]
  },
  {
   "cell_type": "code",
   "execution_count": 37,
   "id": "549f6633",
   "metadata": {},
   "outputs": [
    {
     "data": {
      "image/png": "[encoded data removed]",
      "text/plain": [
       "<Figure size 576x432 with 1 Axes>"
      ]
     },
     "metadata": {
      "needs_background": "light"
     },
     "output_type": "display_data"
    }
   ],
   "source": [
    "import matplotlib.pyplot as plt\n",
    "\n",
    "# Assuming you have the predicted labels y_pred and actual labels y_test\n",
    "\n",
    "# Plot the predicted and actual labels\n",
    "plt.figure(figsize=(8, 6))\n",
    "plt.plot(range(len(y_test)), y_test, color='b', label='Actual')\n",
    "plt.plot(range(len(y_test)), y_predict, color='r', label='Predicted')\n",
    "plt.xlabel('Data points')\n",
    "plt.ylabel('Labels')\n",
    "plt.title('Actual vs Predicted Labels')\n",
    "plt.legend()\n",
    "plt.show()\n"
   ]
  },
  {
   "cell_type": "markdown",
   "id": "431110d9",
   "metadata": {},
   "source": [
    "Ridge Regression"
   ]
  },
  {
   "cell_type": "code",
   "execution_count": 38,
   "id": "990d87c8",
   "metadata": {},
   "outputs": [
    {
     "name": "stdout",
     "output_type": "stream",
     "text": [
      "Mean Squared Error: 71626523858.7458\n"
     ]
    }
   ],
   "source": [
    "from sklearn.linear_model import Ridge\n",
    "from sklearn.metrics import mean_squared_error\n",
    "from sklearn.model_selection import train_test_split\n",
    "from sklearn.preprocessing import StandardScaler\n",
    "\n",
    "# Standardize the features\n",
    "scaler = StandardScaler()\n",
    "X_train_scaled = scaler.fit_transform(X_train)\n",
    "X_test_scaled = scaler.transform(X_test)\n",
    "\n",
    "# Create a Ridge regression model\n",
    "ridge = Ridge(alpha=1.0)  # You can adjust the regularization parameter alpha\n",
    "\n",
    "# Fit the model to the training data\n",
    "ridge.fit(X_train_scaled, y_train)\n",
    "\n",
    "# Make predictions on the test set\n",
    "y_pred = ridge.predict(X_test_scaled)\n",
    "\n",
    "# Evaluate the model\n",
    "mse = mean_squared_error(y_test, y_pred)\n",
    "print(\"Mean Squared Error:\", mse)\n"
   ]
  },
  {
   "cell_type": "code",
   "execution_count": 39,
   "id": "dc295888",
   "metadata": {},
   "outputs": [
    {
     "name": "stdout",
     "output_type": "stream",
     "text": [
      "Accuracy 0.555484242086509\n"
     ]
    }
   ],
   "source": [
    "print(\"Accuracy\",r2_score(y_test,y_pred))"
   ]
  },
  {
   "cell_type": "code",
   "execution_count": 40,
   "id": "554983ff",
   "metadata": {
    "scrolled": true
   },
   "outputs": [
    {
     "data": {
      "text/plain": [
       "920"
      ]
     },
     "execution_count": 40,
     "metadata": {},
     "output_type": "execute_result"
    }
   ],
   "source": [
    "len(y_test)"
   ]
  },
  {
   "cell_type": "code",
   "execution_count": 41,
   "id": "45762bb5",
   "metadata": {},
   "outputs": [
    {
     "data": {
      "text/plain": [
       "920"
      ]
     },
     "execution_count": 41,
     "metadata": {},
     "output_type": "execute_result"
    }
   ],
   "source": [
    "len(y_pred)"
   ]
  },
  {
   "cell_type": "code",
   "execution_count": 42,
   "id": "bbea1811",
   "metadata": {},
   "outputs": [
    {
     "data": {
      "image/png": "[encoded data removed]",
      "text/plain": [
       "<Figure size 576x432 with 1 Axes>"
      ]
     },
     "metadata": {
      "needs_background": "light"
     },
     "output_type": "display_data"
    }
   ],
   "source": [
    "# Create a scatter plot\n",
    "plt.figure(figsize=(8, 6))\n",
    "plt.scatter(y_test, y_pred,color = 'green')\n",
    "plt.xlabel(\"ytest - predicted values\")\n",
    "plt.ylabel(\"Yhattest - Predictions\")\n",
    "plt.plot(y_test, y_test, color = 'red', linewidth = 2)\n",
    "plt.title('actual price and predicted price')\n",
    "plt.show()"
   ]
  },
  {
   "cell_type": "code",
   "execution_count": 43,
   "id": "f08e1e1d",
   "metadata": {},
   "outputs": [
    {
     "data": {
      "image/png": "[encoded data removed]",
      "text/plain": [
       "<Figure size 576x432 with 1 Axes>"
      ]
     },
     "metadata": {
      "needs_background": "light"
     },
     "output_type": "display_data"
    }
   ],
   "source": [
    "import matplotlib.pyplot as plt\n",
    "\n",
    "# Assuming you have the predicted labels y_pred and actual labels y_test\n",
    "\n",
    "# Plot the predicted and actual labels\n",
    "plt.figure(figsize=(8, 6))\n",
    "plt.plot(range(len(y_test)), y_test, color='b', label='Actual')\n",
    "plt.plot(range(len(y_test)), y_pred, color='r', label='Predicted')\n",
    "plt.xlabel('Data points')\n",
    "plt.ylabel('Labels')\n",
    "plt.title('Actual vs Predicted Labels')\n",
    "plt.legend()\n",
    "plt.show()\n"
   ]
  },
  {
   "cell_type": "markdown",
   "id": "281a517a",
   "metadata": {},
   "source": [
    "Lasso Regression"
   ]
  },
  {
   "cell_type": "code",
   "execution_count": 44,
   "id": "5a917798",
   "metadata": {},
   "outputs": [
    {
     "name": "stdout",
     "output_type": "stream",
     "text": [
      "Lasso Regression Mean Squared Error: 71628344085.79381\n"
     ]
    },
    {
     "name": "stderr",
     "output_type": "stream",
     "text": [
      "C:\\ProgramData\\Anaconda3\\lib\\site-packages\\sklearn\\linear_model\\_coordinate_descent.py:647: ConvergenceWarning: Objective did not converge. You might want to increase the number of iterations, check the scale of the features or consider increasing regularisation. Duality gap: 4.627e+13, tolerance: 1.314e+11\n",
      "  model = cd_fast.enet_coordinate_descent(\n"
     ]
    }
   ],
   "source": [
    "from sklearn.linear_model import Lasso\n",
    "from sklearn.metrics import mean_squared_error\n",
    "\n",
    "# Create a Lasso regression model\n",
    "lasso = Lasso(alpha=1.0)  # You can adjust the regularization parameter alpha\n",
    "\n",
    "# Fit the model to the training data\n",
    "lasso.fit(X_train_scaled, y_train)\n",
    "\n",
    "# Make predictions on the test set\n",
    "y_pred_lasso = lasso.predict(X_test_scaled)\n",
    "\n",
    "# Evaluate the model\n",
    "mse_lasso = mean_squared_error(y_test, y_pred_lasso)\n",
    "print(\"Lasso Regression Mean Squared Error:\", mse_lasso)\n"
   ]
  },
  {
   "cell_type": "code",
   "execution_count": 45,
   "id": "d6c4d504",
   "metadata": {
    "scrolled": true
   },
   "outputs": [
    {
     "name": "stdout",
     "output_type": "stream",
     "text": [
      "Accuracy 0.5554729457180378\n"
     ]
    }
   ],
   "source": [
    "print(\"Accuracy\",r2_score(y_test,y_pred_lasso))"
   ]
  },
  {
   "cell_type": "code",
   "execution_count": 46,
   "id": "4366681e",
   "metadata": {
    "scrolled": true
   },
   "outputs": [
    {
     "data": {
      "image/png": "[encoded data removed]",
      "text/plain": [
       "<Figure size 576x432 with 1 Axes>"
      ]
     },
     "metadata": {
      "needs_background": "light"
     },
     "output_type": "display_data"
    }
   ],
   "source": [
    "# Create a scatter plot\n",
    "plt.figure(figsize=(8, 6))\n",
    "plt.scatter(y_test, y_pred_lasso,color = 'green')\n",
    "plt.xlabel(\"ytest - predicted values\")\n",
    "plt.ylabel(\"Yhattest - Predictions\")\n",
    "plt.plot(y_test, y_test, color = 'red', linewidth = 2)\n",
    "plt.title('actual price and predicted price')\n",
    "plt.show()"
   ]
  },
  {
   "cell_type": "code",
   "execution_count": null,
   "id": "3bceb75b",
   "metadata": {},
   "outputs": [],
   "source": []
  },
  {
   "cell_type": "markdown",
   "id": "2a32e653",
   "metadata": {},
   "source": [
    "Gradient Boosting Algorithm"
   ]
  },
  {
   "cell_type": "code",
   "execution_count": 47,
   "id": "ee4afffb",
   "metadata": {},
   "outputs": [
    {
     "name": "stdout",
     "output_type": "stream",
     "text": [
      "Gradient Boosting Regression Mean Squared Error: 60735049967.70225\n"
     ]
    }
   ],
   "source": [
    "from sklearn.ensemble import GradientBoostingRegressor\n",
    "from sklearn.metrics import mean_squared_error\n",
    "\n",
    "# Create a Gradient Boosting Regressor model\n",
    "gradient_boosting = GradientBoostingRegressor(n_estimators=100, learning_rate=0.1, random_state=42)\n",
    "# You can adjust the number of estimators (trees) and the learning rate\n",
    "\n",
    "# Fit the model to the training data\n",
    "gradient_boosting.fit(X_train_scaled, y_train)\n",
    "\n",
    "# Make predictions on the test set\n",
    "y_pred_gb = gradient_boosting.predict(X_test_scaled)\n",
    "\n",
    "# Evaluate the model\n",
    "mse_gb = mean_squared_error(y_test, y_pred_gb)\n",
    "print(\"Gradient Boosting Regression Mean Squared Error:\", mse_gb)\n"
   ]
  },
  {
   "cell_type": "code",
   "execution_count": 48,
   "id": "9d1e71d6",
   "metadata": {
    "scrolled": true
   },
   "outputs": [
    {
     "name": "stdout",
     "output_type": "stream",
     "text": [
      "Accuracy 0.6230769648747876\n"
     ]
    }
   ],
   "source": [
    "print(\"Accuracy\",r2_score(y_test,y_pred_gb))"
   ]
  },
  {
   "cell_type": "code",
   "execution_count": 49,
   "id": "58fb2566",
   "metadata": {},
   "outputs": [
    {
     "data": {
      "image/png": "[encoded data removed]",
      "text/plain": [
       "<Figure size 576x432 with 1 Axes>"
      ]
     },
     "metadata": {
      "needs_background": "light"
     },
     "output_type": "display_data"
    }
   ],
   "source": [
    "# Create a scatter plot\n",
    "plt.figure(figsize=(8, 6))\n",
    "plt.scatter(y_test, y_pred_gb,color = 'green')\n",
    "plt.xlabel(\"ytest - predicted values\")\n",
    "plt.ylabel(\"Yhattest - Predictions\")\n",
    "plt.plot(y_test, y_test, color = 'red', linewidth = 2)\n",
    "plt.title('actual price and predicted price')\n",
    "plt.savefig(\"C://Users//debaj//Desktop//Project Practis//house_price//gradient boosting.png\")\n",
    "plt.show()"
   ]
  },
  {
   "cell_type": "code",
   "execution_count": 50,
   "id": "0106828a",
   "metadata": {},
   "outputs": [
    {
     "data": {
      "image/png": "[encoded data removed]",
      "text/plain": [
       "<Figure size 576x432 with 1 Axes>"
      ]
     },
     "metadata": {
      "needs_background": "light"
     },
     "output_type": "display_data"
    }
   ],
   "source": [
    "import matplotlib.pyplot as plt\n",
    "\n",
    "# Assuming you have the predicted labels y_pred and actual labels y_test\n",
    "\n",
    "# Plot the predicted and actual labels\n",
    "plt.figure(figsize=(8, 6))\n",
    "plt.plot(range(len(y_test)), y_test, color='b', label='Actual')\n",
    "plt.plot(range(len(y_test)),y_pred_gb, color='r', label='Predicted')\n",
    "plt.xlabel('Data points')\n",
    "plt.ylabel('Labels')\n",
    "plt.title('Actual vs Predicted Labels')\n",
    "plt.legend()\n",
    "plt.show()"
   ]
  },
  {
   "cell_type": "code",
   "execution_count": null,
   "id": "47758321",
   "metadata": {},
   "outputs": [],
   "source": []
  }
 ],
 "metadata": {
  "kernelspec": {
   "display_name": "Python 3 (ipykernel)",
   "language": "python",
   "name": "python3"
  },
  "language_info": {
   "codemirror_mode": {
    "name": "ipython",
    "version": 3
   },
   "file_extension": ".py",
   "mimetype": "text/x-python",
   "name": "python",
   "nbconvert_exporter": "python",
   "pygments_lexer": "ipython3",
   "version": "3.9.12"
  }
 },
 "nbformat": 4,
 "nbformat_minor": 5
}
